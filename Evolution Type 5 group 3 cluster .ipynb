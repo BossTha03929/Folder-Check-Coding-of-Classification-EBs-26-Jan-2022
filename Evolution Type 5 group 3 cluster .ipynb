{
 "cells": [
  {
   "cell_type": "code",
   "execution_count": 25,
   "id": "40598b43",
   "metadata": {},
   "outputs": [
    {
     "data": {
      "text/plain": [
       "'C:\\\\Users\\\\User\\\\Documents\\\\Project\\\\Coding of Classification Binary star on H R Diagram by Machine Learning'"
      ]
     },
     "execution_count": 25,
     "metadata": {},
     "output_type": "execute_result"
    }
   ],
   "source": [
    "import pandas as pd\n",
    "import numpy as np\n",
    "import matplotlib.pyplot as plt\n",
    "from sklearn.cluster import KMeans\n",
    "import seaborn as sns\n",
    "%matplotlib inline\n",
    "%config InlineBackend.figure_format='retina'\n",
    "import os\n",
    "os.getcwd()"
   ]
  },
  {
   "cell_type": "code",
   "execution_count": 26,
   "id": "322c34ed",
   "metadata": {},
   "outputs": [],
   "source": [
    "from sklearn.cluster import KMeans\n",
    "import pandas as pd\n",
    "from sklearn.preprocessing import MinMaxScaler\n",
    "from matplotlib import pyplot as plt\n",
    "%matplotlib inline"
   ]
  },
  {
   "cell_type": "code",
   "execution_count": 27,
   "id": "87703086",
   "metadata": {
    "scrolled": true
   },
   "outputs": [
    {
     "data": {
      "text/html": [
       "<div>\n",
       "<style scoped>\n",
       "    .dataframe tbody tr th:only-of-type {\n",
       "        vertical-align: middle;\n",
       "    }\n",
       "\n",
       "    .dataframe tbody tr th {\n",
       "        vertical-align: top;\n",
       "    }\n",
       "\n",
       "    .dataframe thead th {\n",
       "        text-align: right;\n",
       "    }\n",
       "</style>\n",
       "<table border=\"1\" class=\"dataframe\">\n",
       "  <thead>\n",
       "    <tr style=\"text-align: right;\">\n",
       "      <th></th>\n",
       "      <th>P</th>\n",
       "      <th>q</th>\n",
       "      <th>M1</th>\n",
       "      <th>logM1</th>\n",
       "      <th>M2</th>\n",
       "      <th>logM2</th>\n",
       "      <th>R1</th>\n",
       "      <th>logR1</th>\n",
       "      <th>R2</th>\n",
       "      <th>logR2</th>\n",
       "      <th>L1</th>\n",
       "      <th>logL1</th>\n",
       "      <th>L2</th>\n",
       "      <th>logL2</th>\n",
       "      <th>T1</th>\n",
       "      <th>logT1</th>\n",
       "      <th>T2</th>\n",
       "      <th>logT2</th>\n",
       "      <th>E_Type</th>\n",
       "    </tr>\n",
       "  </thead>\n",
       "  <tbody>\n",
       "    <tr>\n",
       "      <th>0</th>\n",
       "      <td>0.316600</td>\n",
       "      <td>0.0787</td>\n",
       "      <td>1.246</td>\n",
       "      <td>0.095518</td>\n",
       "      <td>0.098</td>\n",
       "      <td>-1.008774</td>\n",
       "      <td>1.347</td>\n",
       "      <td>0.129368</td>\n",
       "      <td>0.409</td>\n",
       "      <td>-0.388277</td>\n",
       "      <td>2.5900</td>\n",
       "      <td>0.413300</td>\n",
       "      <td>0.2130</td>\n",
       "      <td>-0.671620</td>\n",
       "      <td>8510.137503</td>\n",
       "      <td>3.929937</td>\n",
       "      <td>2511.217871</td>\n",
       "      <td>3.399884</td>\n",
       "      <td>C</td>\n",
       "    </tr>\n",
       "    <tr>\n",
       "      <th>1</th>\n",
       "      <td>0.233700</td>\n",
       "      <td>0.5120</td>\n",
       "      <td>0.750</td>\n",
       "      <td>-0.124939</td>\n",
       "      <td>0.380</td>\n",
       "      <td>-0.420216</td>\n",
       "      <td>0.740</td>\n",
       "      <td>-0.130768</td>\n",
       "      <td>0.550</td>\n",
       "      <td>-0.259637</td>\n",
       "      <td>0.1800</td>\n",
       "      <td>-0.744727</td>\n",
       "      <td>0.1300</td>\n",
       "      <td>-0.886057</td>\n",
       "      <td>3238.633654</td>\n",
       "      <td>3.510362</td>\n",
       "      <td>2573.919862</td>\n",
       "      <td>3.410595</td>\n",
       "      <td>C</td>\n",
       "    </tr>\n",
       "    <tr>\n",
       "      <th>2</th>\n",
       "      <td>0.217629</td>\n",
       "      <td>0.6780</td>\n",
       "      <td>0.620</td>\n",
       "      <td>-0.207608</td>\n",
       "      <td>0.420</td>\n",
       "      <td>-0.376751</td>\n",
       "      <td>0.730</td>\n",
       "      <td>-0.136677</td>\n",
       "      <td>0.640</td>\n",
       "      <td>-0.193820</td>\n",
       "      <td>0.1100</td>\n",
       "      <td>-0.958607</td>\n",
       "      <td>0.0240</td>\n",
       "      <td>-1.619789</td>\n",
       "      <td>3812.000000</td>\n",
       "      <td>3.581153</td>\n",
       "      <td>3135.000000</td>\n",
       "      <td>3.496238</td>\n",
       "      <td>C</td>\n",
       "    </tr>\n",
       "    <tr>\n",
       "      <th>3</th>\n",
       "      <td>0.296800</td>\n",
       "      <td>0.1720</td>\n",
       "      <td>1.109</td>\n",
       "      <td>0.044932</td>\n",
       "      <td>0.192</td>\n",
       "      <td>-0.716699</td>\n",
       "      <td>1.148</td>\n",
       "      <td>0.059942</td>\n",
       "      <td>0.507</td>\n",
       "      <td>-0.294992</td>\n",
       "      <td>1.4800</td>\n",
       "      <td>0.170262</td>\n",
       "      <td>0.3400</td>\n",
       "      <td>-0.468521</td>\n",
       "      <td>6830.684264</td>\n",
       "      <td>3.834464</td>\n",
       "      <td>3142.690027</td>\n",
       "      <td>3.497302</td>\n",
       "      <td>C</td>\n",
       "    </tr>\n",
       "    <tr>\n",
       "      <th>4</th>\n",
       "      <td>0.335200</td>\n",
       "      <td>0.1060</td>\n",
       "      <td>1.442</td>\n",
       "      <td>0.158965</td>\n",
       "      <td>0.155</td>\n",
       "      <td>-0.809668</td>\n",
       "      <td>1.521</td>\n",
       "      <td>0.182129</td>\n",
       "      <td>0.561</td>\n",
       "      <td>-0.251037</td>\n",
       "      <td>2.9240</td>\n",
       "      <td>0.465977</td>\n",
       "      <td>0.4010</td>\n",
       "      <td>-0.396856</td>\n",
       "      <td>9321.521112</td>\n",
       "      <td>3.969487</td>\n",
       "      <td>3445.048673</td>\n",
       "      <td>3.537195</td>\n",
       "      <td>C</td>\n",
       "    </tr>\n",
       "    <tr>\n",
       "      <th>...</th>\n",
       "      <td>...</td>\n",
       "      <td>...</td>\n",
       "      <td>...</td>\n",
       "      <td>...</td>\n",
       "      <td>...</td>\n",
       "      <td>...</td>\n",
       "      <td>...</td>\n",
       "      <td>...</td>\n",
       "      <td>...</td>\n",
       "      <td>...</td>\n",
       "      <td>...</td>\n",
       "      <td>...</td>\n",
       "      <td>...</td>\n",
       "      <td>...</td>\n",
       "      <td>...</td>\n",
       "      <td>...</td>\n",
       "      <td>...</td>\n",
       "      <td>...</td>\n",
       "      <td>...</td>\n",
       "    </tr>\n",
       "    <tr>\n",
       "      <th>12490</th>\n",
       "      <td>11.700000</td>\n",
       "      <td>1.4100</td>\n",
       "      <td>17.630</td>\n",
       "      <td>1.246252</td>\n",
       "      <td>12.500</td>\n",
       "      <td>1.096910</td>\n",
       "      <td>13.400</td>\n",
       "      <td>1.127105</td>\n",
       "      <td>23.500</td>\n",
       "      <td>1.371068</td>\n",
       "      <td>87096.3590</td>\n",
       "      <td>4.940000</td>\n",
       "      <td>38904.5145</td>\n",
       "      <td>4.590000</td>\n",
       "      <td>363479.764200</td>\n",
       "      <td>5.560480</td>\n",
       "      <td>393515.433200</td>\n",
       "      <td>5.594962</td>\n",
       "      <td>SD</td>\n",
       "    </tr>\n",
       "    <tr>\n",
       "      <th>12491</th>\n",
       "      <td>8.590000</td>\n",
       "      <td>2.7800</td>\n",
       "      <td>18.100</td>\n",
       "      <td>1.257679</td>\n",
       "      <td>6.500</td>\n",
       "      <td>0.812913</td>\n",
       "      <td>16.800</td>\n",
       "      <td>1.225309</td>\n",
       "      <td>16.800</td>\n",
       "      <td>1.225309</td>\n",
       "      <td>223872.1140</td>\n",
       "      <td>5.350000</td>\n",
       "      <td>83176.3771</td>\n",
       "      <td>4.920000</td>\n",
       "      <td>515326.503900</td>\n",
       "      <td>5.712082</td>\n",
       "      <td>402330.057500</td>\n",
       "      <td>5.604582</td>\n",
       "      <td>SD</td>\n",
       "    </tr>\n",
       "    <tr>\n",
       "      <th>12492</th>\n",
       "      <td>4.538000</td>\n",
       "      <td>1.5500</td>\n",
       "      <td>18.300</td>\n",
       "      <td>1.262451</td>\n",
       "      <td>11.800</td>\n",
       "      <td>1.071882</td>\n",
       "      <td>14.700</td>\n",
       "      <td>1.167317</td>\n",
       "      <td>14.700</td>\n",
       "      <td>1.167317</td>\n",
       "      <td>91201.0839</td>\n",
       "      <td>4.960000</td>\n",
       "      <td>204173.7940</td>\n",
       "      <td>5.310000</td>\n",
       "      <td>385111.516200</td>\n",
       "      <td>5.585587</td>\n",
       "      <td>471071.148000</td>\n",
       "      <td>5.673087</td>\n",
       "      <td>SD</td>\n",
       "    </tr>\n",
       "    <tr>\n",
       "      <th>12493</th>\n",
       "      <td>5.990000</td>\n",
       "      <td>1.5000</td>\n",
       "      <td>30.000</td>\n",
       "      <td>1.477121</td>\n",
       "      <td>20.000</td>\n",
       "      <td>1.301030</td>\n",
       "      <td>10.000</td>\n",
       "      <td>1.000000</td>\n",
       "      <td>20.000</td>\n",
       "      <td>1.301030</td>\n",
       "      <td>151356.1250</td>\n",
       "      <td>5.180000</td>\n",
       "      <td>288403.1500</td>\n",
       "      <td>5.460000</td>\n",
       "      <td>360518.735000</td>\n",
       "      <td>5.556928</td>\n",
       "      <td>599022.087300</td>\n",
       "      <td>5.777443</td>\n",
       "      <td>SD</td>\n",
       "    </tr>\n",
       "    <tr>\n",
       "      <th>12494</th>\n",
       "      <td>6.890000</td>\n",
       "      <td>1.0400</td>\n",
       "      <td>29.000</td>\n",
       "      <td>1.462398</td>\n",
       "      <td>13.000</td>\n",
       "      <td>1.113943</td>\n",
       "      <td>22.200</td>\n",
       "      <td>1.346353</td>\n",
       "      <td>22.200</td>\n",
       "      <td>1.346353</td>\n",
       "      <td>199526.2310</td>\n",
       "      <td>5.300000</td>\n",
       "      <td>288403.1500</td>\n",
       "      <td>5.460000</td>\n",
       "      <td>575578.185000</td>\n",
       "      <td>5.760104</td>\n",
       "      <td>631108.930300</td>\n",
       "      <td>5.800104</td>\n",
       "      <td>SD</td>\n",
       "    </tr>\n",
       "  </tbody>\n",
       "</table>\n",
       "<p>12495 rows × 19 columns</p>\n",
       "</div>"
      ],
      "text/plain": [
       "               P       q      M1     logM1      M2     logM2      R1  \\\n",
       "0       0.316600  0.0787   1.246  0.095518   0.098 -1.008774   1.347   \n",
       "1       0.233700  0.5120   0.750 -0.124939   0.380 -0.420216   0.740   \n",
       "2       0.217629  0.6780   0.620 -0.207608   0.420 -0.376751   0.730   \n",
       "3       0.296800  0.1720   1.109  0.044932   0.192 -0.716699   1.148   \n",
       "4       0.335200  0.1060   1.442  0.158965   0.155 -0.809668   1.521   \n",
       "...          ...     ...     ...       ...     ...       ...     ...   \n",
       "12490  11.700000  1.4100  17.630  1.246252  12.500  1.096910  13.400   \n",
       "12491   8.590000  2.7800  18.100  1.257679   6.500  0.812913  16.800   \n",
       "12492   4.538000  1.5500  18.300  1.262451  11.800  1.071882  14.700   \n",
       "12493   5.990000  1.5000  30.000  1.477121  20.000  1.301030  10.000   \n",
       "12494   6.890000  1.0400  29.000  1.462398  13.000  1.113943  22.200   \n",
       "\n",
       "          logR1      R2     logR2           L1     logL1           L2  \\\n",
       "0      0.129368   0.409 -0.388277       2.5900  0.413300       0.2130   \n",
       "1     -0.130768   0.550 -0.259637       0.1800 -0.744727       0.1300   \n",
       "2     -0.136677   0.640 -0.193820       0.1100 -0.958607       0.0240   \n",
       "3      0.059942   0.507 -0.294992       1.4800  0.170262       0.3400   \n",
       "4      0.182129   0.561 -0.251037       2.9240  0.465977       0.4010   \n",
       "...         ...     ...       ...          ...       ...          ...   \n",
       "12490  1.127105  23.500  1.371068   87096.3590  4.940000   38904.5145   \n",
       "12491  1.225309  16.800  1.225309  223872.1140  5.350000   83176.3771   \n",
       "12492  1.167317  14.700  1.167317   91201.0839  4.960000  204173.7940   \n",
       "12493  1.000000  20.000  1.301030  151356.1250  5.180000  288403.1500   \n",
       "12494  1.346353  22.200  1.346353  199526.2310  5.300000  288403.1500   \n",
       "\n",
       "          logL2             T1     logT1             T2     logT2 E_Type  \n",
       "0     -0.671620    8510.137503  3.929937    2511.217871  3.399884      C  \n",
       "1     -0.886057    3238.633654  3.510362    2573.919862  3.410595      C  \n",
       "2     -1.619789    3812.000000  3.581153    3135.000000  3.496238      C  \n",
       "3     -0.468521    6830.684264  3.834464    3142.690027  3.497302      C  \n",
       "4     -0.396856    9321.521112  3.969487    3445.048673  3.537195      C  \n",
       "...         ...            ...       ...            ...       ...    ...  \n",
       "12490  4.590000  363479.764200  5.560480  393515.433200  5.594962     SD  \n",
       "12491  4.920000  515326.503900  5.712082  402330.057500  5.604582     SD  \n",
       "12492  5.310000  385111.516200  5.585587  471071.148000  5.673087     SD  \n",
       "12493  5.460000  360518.735000  5.556928  599022.087300  5.777443     SD  \n",
       "12494  5.460000  575578.185000  5.760104  631108.930300  5.800104     SD  \n",
       "\n",
       "[12495 rows x 19 columns]"
      ]
     },
     "execution_count": 27,
     "metadata": {},
     "output_type": "execute_result"
    }
   ],
   "source": [
    "df =pd.read_csv(\"E_Type_5_Group.csv\", encoding=\"ISO-8859-1\")\n",
    "df"
   ]
  },
  {
   "cell_type": "code",
   "execution_count": 28,
   "id": "603c3aca",
   "metadata": {},
   "outputs": [
    {
     "data": {
      "text/plain": [
       "12495"
      ]
     },
     "execution_count": 28,
     "metadata": {},
     "output_type": "execute_result"
    }
   ],
   "source": [
    "len(df)"
   ]
  },
  {
   "cell_type": "code",
   "execution_count": 29,
   "id": "a3a31f1b",
   "metadata": {},
   "outputs": [
    {
     "data": {
      "text/plain": [
       "Index(['P', 'q', 'M1', 'logM1', 'M2', 'logM2', 'R1', 'logR1', 'R2', 'logR2',\n",
       "       'L1', 'logL1', 'L2', 'logL2', 'T1', 'logT1', 'T2', 'logT2', 'E_Type'],\n",
       "      dtype='object')"
      ]
     },
     "execution_count": 29,
     "metadata": {},
     "output_type": "execute_result"
    }
   ],
   "source": [
    "#เช็ค colums ทั้งหมดของงาน\n",
    "df.columns"
   ]
  },
  {
   "cell_type": "code",
   "execution_count": 30,
   "id": "d72a1e31",
   "metadata": {},
   "outputs": [
    {
     "name": "stdout",
     "output_type": "stream",
     "text": [
      "<class 'pandas.core.frame.DataFrame'>\n",
      "RangeIndex: 12495 entries, 0 to 12494\n",
      "Data columns (total 19 columns):\n",
      " #   Column  Non-Null Count  Dtype  \n",
      "---  ------  --------------  -----  \n",
      " 0   P       12495 non-null  float64\n",
      " 1   q       12495 non-null  float64\n",
      " 2   M1      12495 non-null  float64\n",
      " 3   logM1   12495 non-null  float64\n",
      " 4   M2      12495 non-null  float64\n",
      " 5   logM2   12495 non-null  float64\n",
      " 6   R1      12495 non-null  float64\n",
      " 7   logR1   12495 non-null  float64\n",
      " 8   R2      12495 non-null  float64\n",
      " 9   logR2   12495 non-null  float64\n",
      " 10  L1      12495 non-null  float64\n",
      " 11  logL1   12495 non-null  float64\n",
      " 12  L2      12495 non-null  float64\n",
      " 13  logL2   12495 non-null  float64\n",
      " 14  T1      12495 non-null  float64\n",
      " 15  logT1   12495 non-null  float64\n",
      " 16  T2      12495 non-null  float64\n",
      " 17  logT2   12495 non-null  float64\n",
      " 18  E_Type  12495 non-null  object \n",
      "dtypes: float64(18), object(1)\n",
      "memory usage: 1.8+ MB\n"
     ]
    }
   ],
   "source": [
    "#เช็คประเภทของของข้อมูลในแต่ละคอลัมน์\n",
    "df.info()"
   ]
  },
  {
   "cell_type": "code",
   "execution_count": 31,
   "id": "716063e2",
   "metadata": {},
   "outputs": [
    {
     "data": {
      "text/plain": [
       "SD     5481\n",
       "D      2495\n",
       "LTC    2361\n",
       "C      1248\n",
       "EC      910\n",
       "Name: E_Type, dtype: int64"
      ]
     },
     "execution_count": 31,
     "metadata": {},
     "output_type": "execute_result"
    }
   ],
   "source": [
    "#เช็คประภทของดาวคู่ที่พิจารณาจากโรชซ์โมเดล\n",
    "df.E_Type.value_counts()"
   ]
  },
  {
   "cell_type": "code",
   "execution_count": 32,
   "id": "e0a1a47c",
   "metadata": {},
   "outputs": [],
   "source": [
    "from sklearn.cluster import KMeans"
   ]
  },
  {
   "cell_type": "code",
   "execution_count": 33,
   "id": "eb0f63ce",
   "metadata": {},
   "outputs": [],
   "source": [
    "x = df[['P', 'q', 'M1', 'logM1', 'M2', 'logM2', 'R1', 'logR1',\n",
    "       'R2', 'logR2', 'L1', 'logL1', 'L2', 'logL2', 'T1', 'logT1', 'T2',\n",
    "       'logT2']]"
   ]
  },
  {
   "cell_type": "code",
   "execution_count": 34,
   "id": "9deb9edb",
   "metadata": {},
   "outputs": [
    {
     "data": {
      "text/plain": [
       "KMeans(n_clusters=3)"
      ]
     },
     "execution_count": 34,
     "metadata": {},
     "output_type": "execute_result"
    }
   ],
   "source": [
    "model = KMeans(n_clusters=3)\n",
    "model"
   ]
  },
  {
   "cell_type": "code",
   "execution_count": 35,
   "id": "e07b7446",
   "metadata": {},
   "outputs": [
    {
     "data": {
      "text/plain": [
       "KMeans(n_clusters=3)"
      ]
     },
     "execution_count": 35,
     "metadata": {},
     "output_type": "execute_result"
    }
   ],
   "source": [
    "model.fit(x)"
   ]
  },
  {
   "cell_type": "code",
   "execution_count": 36,
   "id": "71ad6ffa",
   "metadata": {},
   "outputs": [
    {
     "data": {
      "text/plain": [
       "array([[ 8.65979904e+00,  3.87276812e-01,  2.28823534e+00,\n",
       "         2.72739562e-01,  9.80910450e-01, -2.19333886e-01,\n",
       "         2.30521461e+00,  2.64299990e-01,  2.56907446e+00,\n",
       "         2.23540288e-01,  6.04775771e+02,  1.01550708e+00,\n",
       "         2.00289189e+02,  4.58294737e-01,  8.23805884e+03,\n",
       "         3.88217912e+00,  6.14512616e+03,  3.76531833e+00],\n",
       "       [ 5.06333333e+00,  2.64333333e+00,  3.43666667e+01,\n",
       "         1.53498985e+00,  1.33333333e+01,  1.11738774e+00,\n",
       "         1.75333333e+01,  1.21454376e+00,  1.35333333e+01,\n",
       "         1.12945293e+00,  1.38604022e+06,  6.12460950e+00,\n",
       "         3.61144634e+04,  4.45837708e+00,  8.16653595e+05,\n",
       "         5.90035210e+00,  2.79412271e+05,  5.44124857e+00],\n",
       "       [ 3.66430071e+00,  1.08425113e+00,  2.38336207e+01,\n",
       "         1.36034681e+00,  1.68405172e+01,  1.19094807e+00,\n",
       "         1.18559655e+01,  1.03959168e+00,  1.19046552e+01,\n",
       "         1.02715705e+00,  1.88260689e+05,  5.20029974e+00,\n",
       "         1.40905823e+05,  4.95602027e+00,  1.27268114e+05,\n",
       "         4.83172959e+00,  1.17151089e+05,  4.78464570e+00]])"
      ]
     },
     "execution_count": 36,
     "metadata": {},
     "output_type": "execute_result"
    }
   ],
   "source": [
    "model.cluster_centers_"
   ]
  },
  {
   "cell_type": "code",
   "execution_count": 37,
   "id": "5c7762fb",
   "metadata": {},
   "outputs": [
    {
     "data": {
      "text/plain": [
       "array([0, 0, 0, ..., 2, 2, 2])"
      ]
     },
     "execution_count": 37,
     "metadata": {},
     "output_type": "execute_result"
    }
   ],
   "source": [
    "model.labels_"
   ]
  },
  {
   "cell_type": "code",
   "execution_count": 38,
   "id": "e303d078",
   "metadata": {},
   "outputs": [
    {
     "data": {
      "text/plain": [
       "array(['C', 'C', 'C', ..., 'SD', 'SD', 'SD'], dtype=object)"
      ]
     },
     "execution_count": 38,
     "metadata": {},
     "output_type": "execute_result"
    }
   ],
   "source": [
    "df['E_Type'].values"
   ]
  },
  {
   "cell_type": "code",
   "execution_count": 39,
   "id": "9ddccfb6",
   "metadata": {
    "scrolled": true
   },
   "outputs": [
    {
     "data": {
      "text/html": [
       "<div>\n",
       "<style scoped>\n",
       "    .dataframe tbody tr th:only-of-type {\n",
       "        vertical-align: middle;\n",
       "    }\n",
       "\n",
       "    .dataframe tbody tr th {\n",
       "        vertical-align: top;\n",
       "    }\n",
       "\n",
       "    .dataframe thead th {\n",
       "        text-align: right;\n",
       "    }\n",
       "</style>\n",
       "<table border=\"1\" class=\"dataframe\">\n",
       "  <thead>\n",
       "    <tr style=\"text-align: right;\">\n",
       "      <th>col_0</th>\n",
       "      <th>0</th>\n",
       "      <th>1</th>\n",
       "      <th>2</th>\n",
       "    </tr>\n",
       "    <tr>\n",
       "      <th>E_Type</th>\n",
       "      <th></th>\n",
       "      <th></th>\n",
       "      <th></th>\n",
       "    </tr>\n",
       "  </thead>\n",
       "  <tbody>\n",
       "    <tr>\n",
       "      <th>C</th>\n",
       "      <td>1248</td>\n",
       "      <td>0</td>\n",
       "      <td>0</td>\n",
       "    </tr>\n",
       "    <tr>\n",
       "      <th>D</th>\n",
       "      <td>2483</td>\n",
       "      <td>0</td>\n",
       "      <td>12</td>\n",
       "    </tr>\n",
       "    <tr>\n",
       "      <th>EC</th>\n",
       "      <td>886</td>\n",
       "      <td>0</td>\n",
       "      <td>24</td>\n",
       "    </tr>\n",
       "    <tr>\n",
       "      <th>LTC</th>\n",
       "      <td>2361</td>\n",
       "      <td>0</td>\n",
       "      <td>0</td>\n",
       "    </tr>\n",
       "    <tr>\n",
       "      <th>SD</th>\n",
       "      <td>5456</td>\n",
       "      <td>3</td>\n",
       "      <td>22</td>\n",
       "    </tr>\n",
       "  </tbody>\n",
       "</table>\n",
       "</div>"
      ],
      "text/plain": [
       "col_0      0  1   2\n",
       "E_Type             \n",
       "C       1248  0   0\n",
       "D       2483  0  12\n",
       "EC       886  0  24\n",
       "LTC     2361  0   0\n",
       "SD      5456  3  22"
      ]
     },
     "execution_count": 39,
     "metadata": {},
     "output_type": "execute_result"
    }
   ],
   "source": [
    "pd.crosstab((df['E_Type']),model.labels_)"
   ]
  },
  {
   "cell_type": "code",
   "execution_count": 40,
   "id": "58d5f90f",
   "metadata": {},
   "outputs": [],
   "source": [
    "x = df.iloc[:,3:5].values"
   ]
  },
  {
   "cell_type": "code",
   "execution_count": 41,
   "id": "bdf542d3",
   "metadata": {},
   "outputs": [
    {
     "data": {
      "text/plain": [
       "array([[ 0.09551804,  0.098     ],\n",
       "       [-0.12493874,  0.38      ],\n",
       "       [-0.20760831,  0.42      ],\n",
       "       ...,\n",
       "       [ 1.26245109, 11.8       ],\n",
       "       [ 1.47712125, 20.        ],\n",
       "       [ 1.462398  , 13.        ]])"
      ]
     },
     "execution_count": 41,
     "metadata": {},
     "output_type": "execute_result"
    }
   ],
   "source": [
    "x"
   ]
  },
  {
   "cell_type": "code",
   "execution_count": 42,
   "id": "1be15df9",
   "metadata": {},
   "outputs": [],
   "source": [
    "from sklearn.cluster import KMeans\n",
    "wcss = []\n",
    "for i in range(1,11):\n",
    "    kmeans = KMeans(n_clusters=i,init='k-means++')\n",
    "    kmeans.fit(x)\n",
    "    wcss.append(kmeans.inertia_)"
   ]
  },
  {
   "cell_type": "code",
   "execution_count": 43,
   "id": "101d12c6",
   "metadata": {},
   "outputs": [
    {
     "data": {
      "text/plain": [
       "[58940.310814926284,\n",
       " 19497.598577335226,\n",
       " 10956.579643416488,\n",
       " 7044.427225744702,\n",
       " 4585.882933281953,\n",
       " 3590.5482548903083,\n",
       " 2790.1631725626225,\n",
       " 2040.7408072060223,\n",
       " 1595.2974830626304,\n",
       " 1280.9975441928514]"
      ]
     },
     "execution_count": 43,
     "metadata": {},
     "output_type": "execute_result"
    }
   ],
   "source": [
    "wcss"
   ]
  },
  {
   "cell_type": "code",
   "execution_count": 44,
   "id": "4398b5e5",
   "metadata": {},
   "outputs": [
    {
     "data": {
      "text/plain": [
       "[<matplotlib.lines.Line2D at 0x1608e9b1d60>]"
      ]
     },
     "execution_count": 44,
     "metadata": {},
     "output_type": "execute_result"
    },
    {
     "data": {
      "image/png": "[encoded data removed]",
      "text/plain": [
       "<Figure size 432x288 with 1 Axes>"
      ]
     },
     "metadata": {
      "image/png": {
       "height": 248,
       "width": 388
      },
      "needs_background": "light"
     },
     "output_type": "display_data"
    }
   ],
   "source": [
    "plt.plot(range(1,11),wcss)"
   ]
  },
  {
   "cell_type": "code",
   "execution_count": 45,
   "id": "ddd5416c",
   "metadata": {},
   "outputs": [],
   "source": [
    "kmeans = KMeans(n_clusters=3,init='k-means++')\n",
    "y_means = kmeans.fit_predict(x)"
   ]
  },
  {
   "cell_type": "code",
   "execution_count": 46,
   "id": "f5700f7d",
   "metadata": {},
   "outputs": [
    {
     "data": {
      "text/plain": [
       "array([0, 0, 0, ..., 1, 2, 2])"
      ]
     },
     "execution_count": 46,
     "metadata": {},
     "output_type": "execute_result"
    }
   ],
   "source": [
    "y_means"
   ]
  },
  {
   "cell_type": "code",
   "execution_count": 47,
   "id": "e8b6533e",
   "metadata": {},
   "outputs": [
    {
     "data": {
      "text/html": [
       "<div>\n",
       "<style scoped>\n",
       "    .dataframe tbody tr th:only-of-type {\n",
       "        vertical-align: middle;\n",
       "    }\n",
       "\n",
       "    .dataframe tbody tr th {\n",
       "        vertical-align: top;\n",
       "    }\n",
       "\n",
       "    .dataframe thead th {\n",
       "        text-align: right;\n",
       "    }\n",
       "</style>\n",
       "<table border=\"1\" class=\"dataframe\">\n",
       "  <thead>\n",
       "    <tr style=\"text-align: right;\">\n",
       "      <th></th>\n",
       "      <th>P</th>\n",
       "      <th>q</th>\n",
       "      <th>M1</th>\n",
       "      <th>logM1</th>\n",
       "      <th>M2</th>\n",
       "      <th>logM2</th>\n",
       "      <th>R1</th>\n",
       "      <th>logR1</th>\n",
       "      <th>R2</th>\n",
       "      <th>logR2</th>\n",
       "      <th>L1</th>\n",
       "      <th>logL1</th>\n",
       "      <th>L2</th>\n",
       "      <th>logL2</th>\n",
       "      <th>T1</th>\n",
       "      <th>logT1</th>\n",
       "      <th>T2</th>\n",
       "      <th>logT2</th>\n",
       "      <th>E_Type</th>\n",
       "      <th>0</th>\n",
       "    </tr>\n",
       "  </thead>\n",
       "  <tbody>\n",
       "    <tr>\n",
       "      <th>0</th>\n",
       "      <td>0.316600</td>\n",
       "      <td>0.0787</td>\n",
       "      <td>1.246</td>\n",
       "      <td>0.095518</td>\n",
       "      <td>0.098</td>\n",
       "      <td>-1.008774</td>\n",
       "      <td>1.347</td>\n",
       "      <td>0.129368</td>\n",
       "      <td>0.409</td>\n",
       "      <td>-0.388277</td>\n",
       "      <td>2.5900</td>\n",
       "      <td>0.413300</td>\n",
       "      <td>0.2130</td>\n",
       "      <td>-0.671620</td>\n",
       "      <td>8510.137503</td>\n",
       "      <td>3.929937</td>\n",
       "      <td>2511.217871</td>\n",
       "      <td>3.399884</td>\n",
       "      <td>C</td>\n",
       "      <td>0</td>\n",
       "    </tr>\n",
       "    <tr>\n",
       "      <th>1</th>\n",
       "      <td>0.233700</td>\n",
       "      <td>0.5120</td>\n",
       "      <td>0.750</td>\n",
       "      <td>-0.124939</td>\n",
       "      <td>0.380</td>\n",
       "      <td>-0.420216</td>\n",
       "      <td>0.740</td>\n",
       "      <td>-0.130768</td>\n",
       "      <td>0.550</td>\n",
       "      <td>-0.259637</td>\n",
       "      <td>0.1800</td>\n",
       "      <td>-0.744727</td>\n",
       "      <td>0.1300</td>\n",
       "      <td>-0.886057</td>\n",
       "      <td>3238.633654</td>\n",
       "      <td>3.510362</td>\n",
       "      <td>2573.919862</td>\n",
       "      <td>3.410595</td>\n",
       "      <td>C</td>\n",
       "      <td>0</td>\n",
       "    </tr>\n",
       "    <tr>\n",
       "      <th>2</th>\n",
       "      <td>0.217629</td>\n",
       "      <td>0.6780</td>\n",
       "      <td>0.620</td>\n",
       "      <td>-0.207608</td>\n",
       "      <td>0.420</td>\n",
       "      <td>-0.376751</td>\n",
       "      <td>0.730</td>\n",
       "      <td>-0.136677</td>\n",
       "      <td>0.640</td>\n",
       "      <td>-0.193820</td>\n",
       "      <td>0.1100</td>\n",
       "      <td>-0.958607</td>\n",
       "      <td>0.0240</td>\n",
       "      <td>-1.619789</td>\n",
       "      <td>3812.000000</td>\n",
       "      <td>3.581153</td>\n",
       "      <td>3135.000000</td>\n",
       "      <td>3.496238</td>\n",
       "      <td>C</td>\n",
       "      <td>0</td>\n",
       "    </tr>\n",
       "    <tr>\n",
       "      <th>3</th>\n",
       "      <td>0.296800</td>\n",
       "      <td>0.1720</td>\n",
       "      <td>1.109</td>\n",
       "      <td>0.044932</td>\n",
       "      <td>0.192</td>\n",
       "      <td>-0.716699</td>\n",
       "      <td>1.148</td>\n",
       "      <td>0.059942</td>\n",
       "      <td>0.507</td>\n",
       "      <td>-0.294992</td>\n",
       "      <td>1.4800</td>\n",
       "      <td>0.170262</td>\n",
       "      <td>0.3400</td>\n",
       "      <td>-0.468521</td>\n",
       "      <td>6830.684264</td>\n",
       "      <td>3.834464</td>\n",
       "      <td>3142.690027</td>\n",
       "      <td>3.497302</td>\n",
       "      <td>C</td>\n",
       "      <td>0</td>\n",
       "    </tr>\n",
       "    <tr>\n",
       "      <th>4</th>\n",
       "      <td>0.335200</td>\n",
       "      <td>0.1060</td>\n",
       "      <td>1.442</td>\n",
       "      <td>0.158965</td>\n",
       "      <td>0.155</td>\n",
       "      <td>-0.809668</td>\n",
       "      <td>1.521</td>\n",
       "      <td>0.182129</td>\n",
       "      <td>0.561</td>\n",
       "      <td>-0.251037</td>\n",
       "      <td>2.9240</td>\n",
       "      <td>0.465977</td>\n",
       "      <td>0.4010</td>\n",
       "      <td>-0.396856</td>\n",
       "      <td>9321.521112</td>\n",
       "      <td>3.969487</td>\n",
       "      <td>3445.048673</td>\n",
       "      <td>3.537195</td>\n",
       "      <td>C</td>\n",
       "      <td>0</td>\n",
       "    </tr>\n",
       "    <tr>\n",
       "      <th>...</th>\n",
       "      <td>...</td>\n",
       "      <td>...</td>\n",
       "      <td>...</td>\n",
       "      <td>...</td>\n",
       "      <td>...</td>\n",
       "      <td>...</td>\n",
       "      <td>...</td>\n",
       "      <td>...</td>\n",
       "      <td>...</td>\n",
       "      <td>...</td>\n",
       "      <td>...</td>\n",
       "      <td>...</td>\n",
       "      <td>...</td>\n",
       "      <td>...</td>\n",
       "      <td>...</td>\n",
       "      <td>...</td>\n",
       "      <td>...</td>\n",
       "      <td>...</td>\n",
       "      <td>...</td>\n",
       "      <td>...</td>\n",
       "    </tr>\n",
       "    <tr>\n",
       "      <th>12490</th>\n",
       "      <td>11.700000</td>\n",
       "      <td>1.4100</td>\n",
       "      <td>17.630</td>\n",
       "      <td>1.246252</td>\n",
       "      <td>12.500</td>\n",
       "      <td>1.096910</td>\n",
       "      <td>13.400</td>\n",
       "      <td>1.127105</td>\n",
       "      <td>23.500</td>\n",
       "      <td>1.371068</td>\n",
       "      <td>87096.3590</td>\n",
       "      <td>4.940000</td>\n",
       "      <td>38904.5145</td>\n",
       "      <td>4.590000</td>\n",
       "      <td>363479.764200</td>\n",
       "      <td>5.560480</td>\n",
       "      <td>393515.433200</td>\n",
       "      <td>5.594962</td>\n",
       "      <td>SD</td>\n",
       "      <td>1</td>\n",
       "    </tr>\n",
       "    <tr>\n",
       "      <th>12491</th>\n",
       "      <td>8.590000</td>\n",
       "      <td>2.7800</td>\n",
       "      <td>18.100</td>\n",
       "      <td>1.257679</td>\n",
       "      <td>6.500</td>\n",
       "      <td>0.812913</td>\n",
       "      <td>16.800</td>\n",
       "      <td>1.225309</td>\n",
       "      <td>16.800</td>\n",
       "      <td>1.225309</td>\n",
       "      <td>223872.1140</td>\n",
       "      <td>5.350000</td>\n",
       "      <td>83176.3771</td>\n",
       "      <td>4.920000</td>\n",
       "      <td>515326.503900</td>\n",
       "      <td>5.712082</td>\n",
       "      <td>402330.057500</td>\n",
       "      <td>5.604582</td>\n",
       "      <td>SD</td>\n",
       "      <td>1</td>\n",
       "    </tr>\n",
       "    <tr>\n",
       "      <th>12492</th>\n",
       "      <td>4.538000</td>\n",
       "      <td>1.5500</td>\n",
       "      <td>18.300</td>\n",
       "      <td>1.262451</td>\n",
       "      <td>11.800</td>\n",
       "      <td>1.071882</td>\n",
       "      <td>14.700</td>\n",
       "      <td>1.167317</td>\n",
       "      <td>14.700</td>\n",
       "      <td>1.167317</td>\n",
       "      <td>91201.0839</td>\n",
       "      <td>4.960000</td>\n",
       "      <td>204173.7940</td>\n",
       "      <td>5.310000</td>\n",
       "      <td>385111.516200</td>\n",
       "      <td>5.585587</td>\n",
       "      <td>471071.148000</td>\n",
       "      <td>5.673087</td>\n",
       "      <td>SD</td>\n",
       "      <td>1</td>\n",
       "    </tr>\n",
       "    <tr>\n",
       "      <th>12493</th>\n",
       "      <td>5.990000</td>\n",
       "      <td>1.5000</td>\n",
       "      <td>30.000</td>\n",
       "      <td>1.477121</td>\n",
       "      <td>20.000</td>\n",
       "      <td>1.301030</td>\n",
       "      <td>10.000</td>\n",
       "      <td>1.000000</td>\n",
       "      <td>20.000</td>\n",
       "      <td>1.301030</td>\n",
       "      <td>151356.1250</td>\n",
       "      <td>5.180000</td>\n",
       "      <td>288403.1500</td>\n",
       "      <td>5.460000</td>\n",
       "      <td>360518.735000</td>\n",
       "      <td>5.556928</td>\n",
       "      <td>599022.087300</td>\n",
       "      <td>5.777443</td>\n",
       "      <td>SD</td>\n",
       "      <td>2</td>\n",
       "    </tr>\n",
       "    <tr>\n",
       "      <th>12494</th>\n",
       "      <td>6.890000</td>\n",
       "      <td>1.0400</td>\n",
       "      <td>29.000</td>\n",
       "      <td>1.462398</td>\n",
       "      <td>13.000</td>\n",
       "      <td>1.113943</td>\n",
       "      <td>22.200</td>\n",
       "      <td>1.346353</td>\n",
       "      <td>22.200</td>\n",
       "      <td>1.346353</td>\n",
       "      <td>199526.2310</td>\n",
       "      <td>5.300000</td>\n",
       "      <td>288403.1500</td>\n",
       "      <td>5.460000</td>\n",
       "      <td>575578.185000</td>\n",
       "      <td>5.760104</td>\n",
       "      <td>631108.930300</td>\n",
       "      <td>5.800104</td>\n",
       "      <td>SD</td>\n",
       "      <td>2</td>\n",
       "    </tr>\n",
       "  </tbody>\n",
       "</table>\n",
       "<p>12495 rows × 20 columns</p>\n",
       "</div>"
      ],
      "text/plain": [
       "               P       q      M1     logM1      M2     logM2      R1  \\\n",
       "0       0.316600  0.0787   1.246  0.095518   0.098 -1.008774   1.347   \n",
       "1       0.233700  0.5120   0.750 -0.124939   0.380 -0.420216   0.740   \n",
       "2       0.217629  0.6780   0.620 -0.207608   0.420 -0.376751   0.730   \n",
       "3       0.296800  0.1720   1.109  0.044932   0.192 -0.716699   1.148   \n",
       "4       0.335200  0.1060   1.442  0.158965   0.155 -0.809668   1.521   \n",
       "...          ...     ...     ...       ...     ...       ...     ...   \n",
       "12490  11.700000  1.4100  17.630  1.246252  12.500  1.096910  13.400   \n",
       "12491   8.590000  2.7800  18.100  1.257679   6.500  0.812913  16.800   \n",
       "12492   4.538000  1.5500  18.300  1.262451  11.800  1.071882  14.700   \n",
       "12493   5.990000  1.5000  30.000  1.477121  20.000  1.301030  10.000   \n",
       "12494   6.890000  1.0400  29.000  1.462398  13.000  1.113943  22.200   \n",
       "\n",
       "          logR1      R2     logR2           L1     logL1           L2  \\\n",
       "0      0.129368   0.409 -0.388277       2.5900  0.413300       0.2130   \n",
       "1     -0.130768   0.550 -0.259637       0.1800 -0.744727       0.1300   \n",
       "2     -0.136677   0.640 -0.193820       0.1100 -0.958607       0.0240   \n",
       "3      0.059942   0.507 -0.294992       1.4800  0.170262       0.3400   \n",
       "4      0.182129   0.561 -0.251037       2.9240  0.465977       0.4010   \n",
       "...         ...     ...       ...          ...       ...          ...   \n",
       "12490  1.127105  23.500  1.371068   87096.3590  4.940000   38904.5145   \n",
       "12491  1.225309  16.800  1.225309  223872.1140  5.350000   83176.3771   \n",
       "12492  1.167317  14.700  1.167317   91201.0839  4.960000  204173.7940   \n",
       "12493  1.000000  20.000  1.301030  151356.1250  5.180000  288403.1500   \n",
       "12494  1.346353  22.200  1.346353  199526.2310  5.300000  288403.1500   \n",
       "\n",
       "          logL2             T1     logT1             T2     logT2 E_Type  0  \n",
       "0     -0.671620    8510.137503  3.929937    2511.217871  3.399884      C  0  \n",
       "1     -0.886057    3238.633654  3.510362    2573.919862  3.410595      C  0  \n",
       "2     -1.619789    3812.000000  3.581153    3135.000000  3.496238      C  0  \n",
       "3     -0.468521    6830.684264  3.834464    3142.690027  3.497302      C  0  \n",
       "4     -0.396856    9321.521112  3.969487    3445.048673  3.537195      C  0  \n",
       "...         ...            ...       ...            ...       ...    ... ..  \n",
       "12490  4.590000  363479.764200  5.560480  393515.433200  5.594962     SD  1  \n",
       "12491  4.920000  515326.503900  5.712082  402330.057500  5.604582     SD  1  \n",
       "12492  5.310000  385111.516200  5.585587  471071.148000  5.673087     SD  1  \n",
       "12493  5.460000  360518.735000  5.556928  599022.087300  5.777443     SD  2  \n",
       "12494  5.460000  575578.185000  5.760104  631108.930300  5.800104     SD  2  \n",
       "\n",
       "[12495 rows x 20 columns]"
      ]
     },
     "execution_count": 47,
     "metadata": {},
     "output_type": "execute_result"
    }
   ],
   "source": [
    "pd.concat([df,pd.DataFrame(y_means)],axis=1)"
   ]
  },
  {
   "cell_type": "code",
   "execution_count": 48,
   "id": "59d5d0c1",
   "metadata": {},
   "outputs": [
    {
     "data": {
      "text/plain": [
       "<matplotlib.collections.PathCollection at 0x1608ed9fe20>"
      ]
     },
     "execution_count": 48,
     "metadata": {},
     "output_type": "execute_result"
    },
    {
     "data": {
      "image/png": "[encoded data removed]",
      "text/plain": [
       "<Figure size 432x288 with 1 Axes>"
      ]
     },
     "metadata": {
      "image/png": {
       "height": 248,
       "width": 368
      },
      "needs_background": "light"
     },
     "output_type": "display_data"
    }
   ],
   "source": [
    "plt.scatter(x[y_means==0,0], x[y_means==0,1], s=50,c='red')\n",
    "plt.scatter(x[y_means==1,0], x[y_means==1,1], s=50,c='green')\n",
    "plt.scatter(x[y_means==2,0], x[y_means==2,1], s=50,c='black')\n",
    "#plt.scatter(x[y_means==3,0], x[y_means==3,1], s=50,c='blue')\n",
    "#plt.scatter(x[y_means==4,0], x[y_means==4,1], s=50,c='yellow')\n",
    "\n"
   ]
  },
  {
   "cell_type": "code",
   "execution_count": null,
   "id": "c2be54c8",
   "metadata": {},
   "outputs": [],
   "source": []
  },
  {
   "cell_type": "code",
   "execution_count": null,
   "id": "6f9e453e",
   "metadata": {},
   "outputs": [],
   "source": []
  },
  {
   "cell_type": "code",
   "execution_count": null,
   "id": "f255ef8c",
   "metadata": {},
   "outputs": [],
   "source": []
  },
  {
   "cell_type": "code",
   "execution_count": null,
   "id": "c860bc17",
   "metadata": {},
   "outputs": [],
   "source": []
  }
 ],
 "metadata": {
  "kernelspec": {
   "display_name": "Python 3 (ipykernel)",
   "language": "python",
   "name": "python3"
  },
  "language_info": {
   "codemirror_mode": {
    "name": "ipython",
    "version": 3
   },
   "file_extension": ".py",
   "mimetype": "text/x-python",
   "name": "python",
   "nbconvert_exporter": "python",
   "pygments_lexer": "ipython3",
   "version": "3.9.7"
  }
 },
 "nbformat": 4,
 "nbformat_minor": 5
}
