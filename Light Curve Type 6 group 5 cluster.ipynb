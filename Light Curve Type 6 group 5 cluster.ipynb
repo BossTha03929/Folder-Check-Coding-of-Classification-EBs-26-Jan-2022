{
 "cells": [
  {
   "cell_type": "code",
   "execution_count": 1,
   "id": "40598b43",
   "metadata": {},
   "outputs": [
    {
     "data": {
      "text/plain": [
       "'C:\\\\Users\\\\User\\\\Documents\\\\Project\\\\Coding of Classification Binary star on H R Diagram by Machine Learning'"
      ]
     },
     "execution_count": 1,
     "metadata": {},
     "output_type": "execute_result"
    }
   ],
   "source": [
    "import pandas as pd\n",
    "import numpy as np\n",
    "import matplotlib.pyplot as plt\n",
    "from sklearn.cluster import KMeans\n",
    "import seaborn as sns\n",
    "%matplotlib inline\n",
    "%config InlineBackend.figure_format='retina'\n",
    "import os\n",
    "os.getcwd()"
   ]
  },
  {
   "cell_type": "code",
   "execution_count": 2,
   "id": "322c34ed",
   "metadata": {},
   "outputs": [],
   "source": [
    "from sklearn.cluster import KMeans\n",
    "import pandas as pd\n",
    "from sklearn.preprocessing import MinMaxScaler\n",
    "from matplotlib import pyplot as plt\n",
    "%matplotlib inline"
   ]
  },
  {
   "cell_type": "code",
   "execution_count": 3,
   "id": "87703086",
   "metadata": {
    "scrolled": true
   },
   "outputs": [
    {
     "data": {
      "text/html": [
       "<div>\n",
       "<style scoped>\n",
       "    .dataframe tbody tr th:only-of-type {\n",
       "        vertical-align: middle;\n",
       "    }\n",
       "\n",
       "    .dataframe tbody tr th {\n",
       "        vertical-align: top;\n",
       "    }\n",
       "\n",
       "    .dataframe thead th {\n",
       "        text-align: right;\n",
       "    }\n",
       "</style>\n",
       "<table border=\"1\" class=\"dataframe\">\n",
       "  <thead>\n",
       "    <tr style=\"text-align: right;\">\n",
       "      <th></th>\n",
       "      <th>P</th>\n",
       "      <th>q</th>\n",
       "      <th>M1</th>\n",
       "      <th>logM1</th>\n",
       "      <th>M2</th>\n",
       "      <th>logM2</th>\n",
       "      <th>R1</th>\n",
       "      <th>logR1</th>\n",
       "      <th>R2</th>\n",
       "      <th>logR2</th>\n",
       "      <th>L1</th>\n",
       "      <th>logL1</th>\n",
       "      <th>L2</th>\n",
       "      <th>logL2</th>\n",
       "      <th>T1</th>\n",
       "      <th>logT1</th>\n",
       "      <th>T2</th>\n",
       "      <th>logT2</th>\n",
       "      <th>Type</th>\n",
       "      <th>Unnamed: 19</th>\n",
       "    </tr>\n",
       "  </thead>\n",
       "  <tbody>\n",
       "    <tr>\n",
       "      <th>0</th>\n",
       "      <td>0.316600</td>\n",
       "      <td>0.0787</td>\n",
       "      <td>1.246</td>\n",
       "      <td>0.095518</td>\n",
       "      <td>0.098</td>\n",
       "      <td>-1.008774</td>\n",
       "      <td>1.347</td>\n",
       "      <td>0.129368</td>\n",
       "      <td>0.409</td>\n",
       "      <td>-0.388277</td>\n",
       "      <td>2.590</td>\n",
       "      <td>0.413300</td>\n",
       "      <td>0.213</td>\n",
       "      <td>-0.671620</td>\n",
       "      <td>8510.137503</td>\n",
       "      <td>3.929937</td>\n",
       "      <td>2511.217871</td>\n",
       "      <td>3.399884</td>\n",
       "      <td>A-EW</td>\n",
       "      <td>NaN</td>\n",
       "    </tr>\n",
       "    <tr>\n",
       "      <th>1</th>\n",
       "      <td>0.217629</td>\n",
       "      <td>0.6780</td>\n",
       "      <td>0.620</td>\n",
       "      <td>-0.207608</td>\n",
       "      <td>0.420</td>\n",
       "      <td>-0.376751</td>\n",
       "      <td>0.730</td>\n",
       "      <td>-0.136677</td>\n",
       "      <td>0.640</td>\n",
       "      <td>-0.193820</td>\n",
       "      <td>0.110</td>\n",
       "      <td>-0.958607</td>\n",
       "      <td>0.024</td>\n",
       "      <td>-1.619789</td>\n",
       "      <td>3812.000000</td>\n",
       "      <td>3.581153</td>\n",
       "      <td>3135.000000</td>\n",
       "      <td>3.496238</td>\n",
       "      <td>A-EW</td>\n",
       "      <td>NaN</td>\n",
       "    </tr>\n",
       "    <tr>\n",
       "      <th>2</th>\n",
       "      <td>0.296800</td>\n",
       "      <td>0.1720</td>\n",
       "      <td>1.109</td>\n",
       "      <td>0.044932</td>\n",
       "      <td>0.192</td>\n",
       "      <td>-0.716699</td>\n",
       "      <td>1.148</td>\n",
       "      <td>0.059942</td>\n",
       "      <td>0.507</td>\n",
       "      <td>-0.294992</td>\n",
       "      <td>1.480</td>\n",
       "      <td>0.170262</td>\n",
       "      <td>0.340</td>\n",
       "      <td>-0.468521</td>\n",
       "      <td>6830.684264</td>\n",
       "      <td>3.834464</td>\n",
       "      <td>3142.690027</td>\n",
       "      <td>3.497302</td>\n",
       "      <td>A-EW</td>\n",
       "      <td>NaN</td>\n",
       "    </tr>\n",
       "    <tr>\n",
       "      <th>3</th>\n",
       "      <td>0.335200</td>\n",
       "      <td>0.1060</td>\n",
       "      <td>1.442</td>\n",
       "      <td>0.158965</td>\n",
       "      <td>0.155</td>\n",
       "      <td>-0.809668</td>\n",
       "      <td>1.521</td>\n",
       "      <td>0.182129</td>\n",
       "      <td>0.561</td>\n",
       "      <td>-0.251037</td>\n",
       "      <td>2.924</td>\n",
       "      <td>0.465977</td>\n",
       "      <td>0.401</td>\n",
       "      <td>-0.396856</td>\n",
       "      <td>9321.521112</td>\n",
       "      <td>3.969487</td>\n",
       "      <td>3445.048673</td>\n",
       "      <td>3.537195</td>\n",
       "      <td>A-EW</td>\n",
       "      <td>NaN</td>\n",
       "    </tr>\n",
       "    <tr>\n",
       "      <th>4</th>\n",
       "      <td>0.382600</td>\n",
       "      <td>0.1470</td>\n",
       "      <td>1.279</td>\n",
       "      <td>0.106871</td>\n",
       "      <td>0.179</td>\n",
       "      <td>-0.747147</td>\n",
       "      <td>1.435</td>\n",
       "      <td>0.156852</td>\n",
       "      <td>0.583</td>\n",
       "      <td>-0.234331</td>\n",
       "      <td>2.550</td>\n",
       "      <td>0.406540</td>\n",
       "      <td>0.410</td>\n",
       "      <td>-0.387216</td>\n",
       "      <td>8749.612792</td>\n",
       "      <td>3.941989</td>\n",
       "      <td>3531.490806</td>\n",
       "      <td>3.547958</td>\n",
       "      <td>A-EW</td>\n",
       "      <td>NaN</td>\n",
       "    </tr>\n",
       "    <tr>\n",
       "      <th>...</th>\n",
       "      <td>...</td>\n",
       "      <td>...</td>\n",
       "      <td>...</td>\n",
       "      <td>...</td>\n",
       "      <td>...</td>\n",
       "      <td>...</td>\n",
       "      <td>...</td>\n",
       "      <td>...</td>\n",
       "      <td>...</td>\n",
       "      <td>...</td>\n",
       "      <td>...</td>\n",
       "      <td>...</td>\n",
       "      <td>...</td>\n",
       "      <td>...</td>\n",
       "      <td>...</td>\n",
       "      <td>...</td>\n",
       "      <td>...</td>\n",
       "      <td>...</td>\n",
       "      <td>...</td>\n",
       "      <td>...</td>\n",
       "    </tr>\n",
       "    <tr>\n",
       "      <th>11630</th>\n",
       "      <td>0.395610</td>\n",
       "      <td>0.1500</td>\n",
       "      <td>1.730</td>\n",
       "      <td>0.238046</td>\n",
       "      <td>0.270</td>\n",
       "      <td>-0.568636</td>\n",
       "      <td>1.630</td>\n",
       "      <td>0.212188</td>\n",
       "      <td>0.750</td>\n",
       "      <td>-0.124939</td>\n",
       "      <td>6.340</td>\n",
       "      <td>0.802089</td>\n",
       "      <td>1.310</td>\n",
       "      <td>0.117271</td>\n",
       "      <td>7945.000000</td>\n",
       "      <td>3.900094</td>\n",
       "      <td>7966.260000</td>\n",
       "      <td>3.901254</td>\n",
       "      <td>W-EW</td>\n",
       "      <td>NaN</td>\n",
       "    </tr>\n",
       "    <tr>\n",
       "      <th>11631</th>\n",
       "      <td>0.483170</td>\n",
       "      <td>0.1400</td>\n",
       "      <td>1.620</td>\n",
       "      <td>0.209515</td>\n",
       "      <td>0.220</td>\n",
       "      <td>-0.657577</td>\n",
       "      <td>1.800</td>\n",
       "      <td>0.255273</td>\n",
       "      <td>0.760</td>\n",
       "      <td>-0.119186</td>\n",
       "      <td>4.860</td>\n",
       "      <td>0.686636</td>\n",
       "      <td>1.440</td>\n",
       "      <td>0.158362</td>\n",
       "      <td>7073.000000</td>\n",
       "      <td>3.849604</td>\n",
       "      <td>8020.720000</td>\n",
       "      <td>3.904213</td>\n",
       "      <td>W-EW</td>\n",
       "      <td>NaN</td>\n",
       "    </tr>\n",
       "    <tr>\n",
       "      <th>11632</th>\n",
       "      <td>0.368450</td>\n",
       "      <td>0.2200</td>\n",
       "      <td>1.390</td>\n",
       "      <td>0.143015</td>\n",
       "      <td>0.310</td>\n",
       "      <td>-0.508638</td>\n",
       "      <td>1.390</td>\n",
       "      <td>0.143015</td>\n",
       "      <td>0.740</td>\n",
       "      <td>-0.130768</td>\n",
       "      <td>2.550</td>\n",
       "      <td>0.406540</td>\n",
       "      <td>0.710</td>\n",
       "      <td>-0.148742</td>\n",
       "      <td>8142.000000</td>\n",
       "      <td>3.910731</td>\n",
       "      <td>8142.950000</td>\n",
       "      <td>3.910782</td>\n",
       "      <td>W-EW</td>\n",
       "      <td>NaN</td>\n",
       "    </tr>\n",
       "    <tr>\n",
       "      <th>11633</th>\n",
       "      <td>0.498300</td>\n",
       "      <td>0.4420</td>\n",
       "      <td>1.849</td>\n",
       "      <td>0.266937</td>\n",
       "      <td>0.818</td>\n",
       "      <td>-0.087247</td>\n",
       "      <td>1.775</td>\n",
       "      <td>0.249198</td>\n",
       "      <td>1.224</td>\n",
       "      <td>0.087781</td>\n",
       "      <td>5.062</td>\n",
       "      <td>0.704322</td>\n",
       "      <td>2.668</td>\n",
       "      <td>0.426186</td>\n",
       "      <td>11550.680000</td>\n",
       "      <td>4.062608</td>\n",
       "      <td>8172.689581</td>\n",
       "      <td>3.912365</td>\n",
       "      <td>W-EW</td>\n",
       "      <td>NaN</td>\n",
       "    </tr>\n",
       "    <tr>\n",
       "      <th>11634</th>\n",
       "      <td>0.369100</td>\n",
       "      <td>0.1500</td>\n",
       "      <td>1.380</td>\n",
       "      <td>0.139879</td>\n",
       "      <td>0.210</td>\n",
       "      <td>-0.677781</td>\n",
       "      <td>1.460</td>\n",
       "      <td>0.164353</td>\n",
       "      <td>0.680</td>\n",
       "      <td>-0.167491</td>\n",
       "      <td>2.480</td>\n",
       "      <td>0.394452</td>\n",
       "      <td>0.670</td>\n",
       "      <td>-0.173925</td>\n",
       "      <td>7759.000000</td>\n",
       "      <td>3.889806</td>\n",
       "      <td>8245.620000</td>\n",
       "      <td>3.916223</td>\n",
       "      <td>W-EW</td>\n",
       "      <td>NaN</td>\n",
       "    </tr>\n",
       "  </tbody>\n",
       "</table>\n",
       "<p>11635 rows × 20 columns</p>\n",
       "</div>"
      ],
      "text/plain": [
       "              P       q     M1     logM1     M2     logM2     R1     logR1  \\\n",
       "0      0.316600  0.0787  1.246  0.095518  0.098 -1.008774  1.347  0.129368   \n",
       "1      0.217629  0.6780  0.620 -0.207608  0.420 -0.376751  0.730 -0.136677   \n",
       "2      0.296800  0.1720  1.109  0.044932  0.192 -0.716699  1.148  0.059942   \n",
       "3      0.335200  0.1060  1.442  0.158965  0.155 -0.809668  1.521  0.182129   \n",
       "4      0.382600  0.1470  1.279  0.106871  0.179 -0.747147  1.435  0.156852   \n",
       "...         ...     ...    ...       ...    ...       ...    ...       ...   \n",
       "11630  0.395610  0.1500  1.730  0.238046  0.270 -0.568636  1.630  0.212188   \n",
       "11631  0.483170  0.1400  1.620  0.209515  0.220 -0.657577  1.800  0.255273   \n",
       "11632  0.368450  0.2200  1.390  0.143015  0.310 -0.508638  1.390  0.143015   \n",
       "11633  0.498300  0.4420  1.849  0.266937  0.818 -0.087247  1.775  0.249198   \n",
       "11634  0.369100  0.1500  1.380  0.139879  0.210 -0.677781  1.460  0.164353   \n",
       "\n",
       "          R2     logR2     L1     logL1     L2     logL2            T1  \\\n",
       "0      0.409 -0.388277  2.590  0.413300  0.213 -0.671620   8510.137503   \n",
       "1      0.640 -0.193820  0.110 -0.958607  0.024 -1.619789   3812.000000   \n",
       "2      0.507 -0.294992  1.480  0.170262  0.340 -0.468521   6830.684264   \n",
       "3      0.561 -0.251037  2.924  0.465977  0.401 -0.396856   9321.521112   \n",
       "4      0.583 -0.234331  2.550  0.406540  0.410 -0.387216   8749.612792   \n",
       "...      ...       ...    ...       ...    ...       ...           ...   \n",
       "11630  0.750 -0.124939  6.340  0.802089  1.310  0.117271   7945.000000   \n",
       "11631  0.760 -0.119186  4.860  0.686636  1.440  0.158362   7073.000000   \n",
       "11632  0.740 -0.130768  2.550  0.406540  0.710 -0.148742   8142.000000   \n",
       "11633  1.224  0.087781  5.062  0.704322  2.668  0.426186  11550.680000   \n",
       "11634  0.680 -0.167491  2.480  0.394452  0.670 -0.173925   7759.000000   \n",
       "\n",
       "          logT1           T2     logT2  Type  Unnamed: 19  \n",
       "0      3.929937  2511.217871  3.399884  A-EW          NaN  \n",
       "1      3.581153  3135.000000  3.496238  A-EW          NaN  \n",
       "2      3.834464  3142.690027  3.497302  A-EW          NaN  \n",
       "3      3.969487  3445.048673  3.537195  A-EW          NaN  \n",
       "4      3.941989  3531.490806  3.547958  A-EW          NaN  \n",
       "...         ...          ...       ...   ...          ...  \n",
       "11630  3.900094  7966.260000  3.901254  W-EW          NaN  \n",
       "11631  3.849604  8020.720000  3.904213  W-EW          NaN  \n",
       "11632  3.910731  8142.950000  3.910782  W-EW          NaN  \n",
       "11633  4.062608  8172.689581  3.912365  W-EW          NaN  \n",
       "11634  3.889806  8245.620000  3.916223  W-EW          NaN  \n",
       "\n",
       "[11635 rows x 20 columns]"
      ]
     },
     "execution_count": 3,
     "metadata": {},
     "output_type": "execute_result"
    }
   ],
   "source": [
    "df =pd.read_csv(\"L_Type_6_Group.csv\", encoding=\"ISO-8859-1\")\n",
    "df"
   ]
  },
  {
   "cell_type": "code",
   "execution_count": 4,
   "id": "603c3aca",
   "metadata": {},
   "outputs": [
    {
     "data": {
      "text/plain": [
       "11635"
      ]
     },
     "execution_count": 4,
     "metadata": {},
     "output_type": "execute_result"
    }
   ],
   "source": [
    "len(df)"
   ]
  },
  {
   "cell_type": "code",
   "execution_count": 5,
   "id": "a3a31f1b",
   "metadata": {},
   "outputs": [
    {
     "data": {
      "text/plain": [
       "Index(['P', 'q', 'M1', 'logM1', 'M2', 'logM2', 'R1', 'logR1', 'R2', 'logR2',\n",
       "       'L1', 'logL1', 'L2', 'logL2', 'T1', 'logT1', 'T2', 'logT2', 'Type',\n",
       "       'Unnamed: 19'],\n",
       "      dtype='object')"
      ]
     },
     "execution_count": 5,
     "metadata": {},
     "output_type": "execute_result"
    }
   ],
   "source": [
    "#เช็ค colums ทั้งหมดของงาน\n",
    "df.columns"
   ]
  },
  {
   "cell_type": "code",
   "execution_count": 6,
   "id": "d72a1e31",
   "metadata": {},
   "outputs": [
    {
     "name": "stdout",
     "output_type": "stream",
     "text": [
      "<class 'pandas.core.frame.DataFrame'>\n",
      "RangeIndex: 11635 entries, 0 to 11634\n",
      "Data columns (total 20 columns):\n",
      " #   Column       Non-Null Count  Dtype  \n",
      "---  ------       --------------  -----  \n",
      " 0   P            11635 non-null  float64\n",
      " 1   q            11635 non-null  float64\n",
      " 2   M1           11635 non-null  float64\n",
      " 3   logM1        11635 non-null  float64\n",
      " 4   M2           11635 non-null  float64\n",
      " 5   logM2        11635 non-null  float64\n",
      " 6   R1           11635 non-null  float64\n",
      " 7   logR1        11635 non-null  float64\n",
      " 8   R2           11635 non-null  float64\n",
      " 9   logR2        11635 non-null  float64\n",
      " 10  L1           11635 non-null  float64\n",
      " 11  logL1        11635 non-null  float64\n",
      " 12  L2           11635 non-null  float64\n",
      " 13  logL2        11635 non-null  float64\n",
      " 14  T1           11635 non-null  float64\n",
      " 15  logT1        11635 non-null  float64\n",
      " 16  T2           11635 non-null  float64\n",
      " 17  logT2        11635 non-null  float64\n",
      " 18  Type         11635 non-null  object \n",
      " 19  Unnamed: 19  0 non-null      float64\n",
      "dtypes: float64(19), object(1)\n",
      "memory usage: 1.8+ MB\n"
     ]
    }
   ],
   "source": [
    "#เช็คประเภทของของข้อมูลในแต่ละคอลัมน์\n",
    "df.info()"
   ]
  },
  {
   "cell_type": "code",
   "execution_count": 7,
   "id": "716063e2",
   "metadata": {},
   "outputs": [
    {
     "data": {
      "text/plain": [
       "EA      6372\n",
       "W-EW    1832\n",
       "EB      1034\n",
       "A-EW     997\n",
       "EW       911\n",
       "E        489\n",
       "Name: Type, dtype: int64"
      ]
     },
     "execution_count": 7,
     "metadata": {},
     "output_type": "execute_result"
    }
   ],
   "source": [
    "#เช็คประภทของดาวคู่ที่พิจารณาจากโรชซ์โมเดล\n",
    "df.Type.value_counts()"
   ]
  },
  {
   "cell_type": "code",
   "execution_count": 8,
   "id": "e0a1a47c",
   "metadata": {},
   "outputs": [],
   "source": [
    "from sklearn.cluster import KMeans"
   ]
  },
  {
   "cell_type": "code",
   "execution_count": 9,
   "id": "eb0f63ce",
   "metadata": {},
   "outputs": [],
   "source": [
    "x = df[['P', 'q', 'M1', 'logM1', 'M2', 'logM2', 'R1', 'logR1',\n",
    "       'R2', 'logR2', 'L1', 'logL1', 'L2', 'logL2', 'T1', 'logT1', 'T2',\n",
    "       'logT2']]"
   ]
  },
  {
   "cell_type": "code",
   "execution_count": 10,
   "id": "9deb9edb",
   "metadata": {},
   "outputs": [
    {
     "data": {
      "text/plain": [
       "KMeans(n_clusters=5)"
      ]
     },
     "execution_count": 10,
     "metadata": {},
     "output_type": "execute_result"
    }
   ],
   "source": [
    "model = KMeans(n_clusters=5)\n",
    "model"
   ]
  },
  {
   "cell_type": "code",
   "execution_count": 11,
   "id": "e07b7446",
   "metadata": {},
   "outputs": [
    {
     "data": {
      "text/plain": [
       "KMeans(n_clusters=5)"
      ]
     },
     "execution_count": 11,
     "metadata": {},
     "output_type": "execute_result"
    }
   ],
   "source": [
    "model.fit(x)"
   ]
  },
  {
   "cell_type": "code",
   "execution_count": 12,
   "id": "71ad6ffa",
   "metadata": {},
   "outputs": [
    {
     "data": {
      "text/plain": [
       "array([[ 9.14922652e+00,  3.74052340e-01,  2.14651158e+00,\n",
       "         2.67610757e-01,  8.69503842e-01, -2.33475262e-01,\n",
       "         2.21890543e+00,  2.59192903e-01,  2.49029355e+00,\n",
       "         2.25135480e-01,  1.18129929e+02,  9.90773344e-01,\n",
       "         4.26278054e+01,  4.35513075e-01,  7.89502418e+03,\n",
       "         3.87757155e+00,  5.88317726e+03,  3.75743501e+00],\n",
       "       [ 2.11359554e+00,  8.32000000e-01,  2.54940000e+01,\n",
       "         1.39706166e+00,  2.11060000e+01,  1.31197491e+00,\n",
       "         1.29200000e+01,  1.07560778e+00,  1.20300000e+01,\n",
       "         1.03600618e+00,  3.08059620e+05,  5.48779724e+00,\n",
       "         1.71651369e+05,  5.16130606e+00,  3.41780000e+04,\n",
       "         4.53048880e+00,  3.34600000e+04,  4.52157307e+00],\n",
       "       [ 3.31217861e+00,  6.44400000e-01,  2.23447273e+01,\n",
       "         1.29489507e+00,  1.53845455e+01,  1.07651868e+00,\n",
       "         1.73437455e+01,  1.03799095e+00,  2.51300000e+01,\n",
       "         1.00408695e+00,  4.29185483e+04,  4.57444177e+00,\n",
       "         2.01119440e+04,  3.77827682e+00,  2.47169091e+04,\n",
       "         4.34736454e+00,  2.12965455e+04,  4.23853996e+00],\n",
       "       [ 4.28172872e+00,  6.06842105e-01,  1.55368421e+01,\n",
       "         1.15242876e+00,  1.02884211e+01,  8.61744555e-01,\n",
       "         8.91578947e+00,  9.24889113e-01,  8.92631579e+00,\n",
       "         9.27311928e-01,  1.69990756e+05,  5.22938844e+00,\n",
       "         3.48683084e+04,  3.60739659e+00,  2.58789474e+04,\n",
       "         4.36716252e+00,  2.12430526e+04,  4.23211587e+00],\n",
       "       [ 2.72289170e+00,  7.41666667e-01,  2.37166667e+01,\n",
       "         1.37079195e+00,  1.77500000e+01,  1.23846300e+00,\n",
       "         1.28166667e+01,  1.09381619e+00,  1.38833333e+01,\n",
       "         1.13814762e+00,  7.55085992e+04,  4.86579003e+00,\n",
       "         2.54333333e+05,  5.40134582e+00,  3.31670000e+04,\n",
       "         4.52051422e+00,  2.62000000e+04,  4.39822398e+00]])"
      ]
     },
     "execution_count": 12,
     "metadata": {},
     "output_type": "execute_result"
    }
   ],
   "source": [
    "model.cluster_centers_"
   ]
  },
  {
   "cell_type": "code",
   "execution_count": 13,
   "id": "5c7762fb",
   "metadata": {},
   "outputs": [
    {
     "data": {
      "text/plain": [
       "array([0, 0, 0, ..., 0, 0, 0])"
      ]
     },
     "execution_count": 13,
     "metadata": {},
     "output_type": "execute_result"
    }
   ],
   "source": [
    "model.labels_"
   ]
  },
  {
   "cell_type": "code",
   "execution_count": 14,
   "id": "e303d078",
   "metadata": {},
   "outputs": [
    {
     "data": {
      "text/plain": [
       "array(['A-EW', 'A-EW', 'A-EW', ..., 'W-EW', 'W-EW', 'W-EW'], dtype=object)"
      ]
     },
     "execution_count": 14,
     "metadata": {},
     "output_type": "execute_result"
    }
   ],
   "source": [
    "df['Type'].values"
   ]
  },
  {
   "cell_type": "code",
   "execution_count": 15,
   "id": "9ddccfb6",
   "metadata": {
    "scrolled": true
   },
   "outputs": [
    {
     "data": {
      "text/html": [
       "<div>\n",
       "<style scoped>\n",
       "    .dataframe tbody tr th:only-of-type {\n",
       "        vertical-align: middle;\n",
       "    }\n",
       "\n",
       "    .dataframe tbody tr th {\n",
       "        vertical-align: top;\n",
       "    }\n",
       "\n",
       "    .dataframe thead th {\n",
       "        text-align: right;\n",
       "    }\n",
       "</style>\n",
       "<table border=\"1\" class=\"dataframe\">\n",
       "  <thead>\n",
       "    <tr style=\"text-align: right;\">\n",
       "      <th>col_0</th>\n",
       "      <th>0</th>\n",
       "      <th>1</th>\n",
       "      <th>2</th>\n",
       "      <th>3</th>\n",
       "      <th>4</th>\n",
       "    </tr>\n",
       "    <tr>\n",
       "      <th>Type</th>\n",
       "      <th></th>\n",
       "      <th></th>\n",
       "      <th></th>\n",
       "      <th></th>\n",
       "      <th></th>\n",
       "    </tr>\n",
       "  </thead>\n",
       "  <tbody>\n",
       "    <tr>\n",
       "      <th>A-EW</th>\n",
       "      <td>997</td>\n",
       "      <td>0</td>\n",
       "      <td>0</td>\n",
       "      <td>0</td>\n",
       "      <td>0</td>\n",
       "    </tr>\n",
       "    <tr>\n",
       "      <th>E</th>\n",
       "      <td>483</td>\n",
       "      <td>0</td>\n",
       "      <td>6</td>\n",
       "      <td>0</td>\n",
       "      <td>0</td>\n",
       "    </tr>\n",
       "    <tr>\n",
       "      <th>EA</th>\n",
       "      <td>6327</td>\n",
       "      <td>2</td>\n",
       "      <td>29</td>\n",
       "      <td>13</td>\n",
       "      <td>1</td>\n",
       "    </tr>\n",
       "    <tr>\n",
       "      <th>EB</th>\n",
       "      <td>999</td>\n",
       "      <td>4</td>\n",
       "      <td>20</td>\n",
       "      <td>6</td>\n",
       "      <td>5</td>\n",
       "    </tr>\n",
       "    <tr>\n",
       "      <th>EW</th>\n",
       "      <td>907</td>\n",
       "      <td>4</td>\n",
       "      <td>0</td>\n",
       "      <td>0</td>\n",
       "      <td>0</td>\n",
       "    </tr>\n",
       "    <tr>\n",
       "      <th>W-EW</th>\n",
       "      <td>1832</td>\n",
       "      <td>0</td>\n",
       "      <td>0</td>\n",
       "      <td>0</td>\n",
       "      <td>0</td>\n",
       "    </tr>\n",
       "  </tbody>\n",
       "</table>\n",
       "</div>"
      ],
      "text/plain": [
       "col_0     0  1   2   3  4\n",
       "Type                     \n",
       "A-EW    997  0   0   0  0\n",
       "E       483  0   6   0  0\n",
       "EA     6327  2  29  13  1\n",
       "EB      999  4  20   6  5\n",
       "EW      907  4   0   0  0\n",
       "W-EW   1832  0   0   0  0"
      ]
     },
     "execution_count": 15,
     "metadata": {},
     "output_type": "execute_result"
    }
   ],
   "source": [
    "pd.crosstab((df['Type']),model.labels_)"
   ]
  },
  {
   "cell_type": "code",
   "execution_count": 16,
   "id": "58d5f90f",
   "metadata": {},
   "outputs": [],
   "source": [
    "x = df.iloc[:,3:5].values"
   ]
  },
  {
   "cell_type": "code",
   "execution_count": 17,
   "id": "bdf542d3",
   "metadata": {},
   "outputs": [
    {
     "data": {
      "text/plain": [
       "array([[ 0.09551804,  0.098     ],\n",
       "       [-0.20760831,  0.42      ],\n",
       "       [ 0.04493155,  0.192     ],\n",
       "       ...,\n",
       "       [ 0.1430148 ,  0.31      ],\n",
       "       [ 0.26693691,  0.818     ],\n",
       "       [ 0.13987909,  0.21      ]])"
      ]
     },
     "execution_count": 17,
     "metadata": {},
     "output_type": "execute_result"
    }
   ],
   "source": [
    "x"
   ]
  },
  {
   "cell_type": "code",
   "execution_count": 18,
   "id": "1be15df9",
   "metadata": {},
   "outputs": [],
   "source": [
    "from sklearn.cluster import KMeans\n",
    "wcss = []\n",
    "for i in range(1,11):\n",
    "    kmeans = KMeans(n_clusters=i,init='k-means++')\n",
    "    kmeans.fit(x)\n",
    "    wcss.append(kmeans.inertia_)"
   ]
  },
  {
   "cell_type": "code",
   "execution_count": 19,
   "id": "101d12c6",
   "metadata": {},
   "outputs": [
    {
     "data": {
      "text/plain": [
       "[43828.48290866403,\n",
       " 15590.256761108518,\n",
       " 9449.875183238193,\n",
       " 5626.087231444311,\n",
       " 3823.4911544814668,\n",
       " 2957.4568032878565,\n",
       " 2177.4484973722333,\n",
       " 1572.9779222293723,\n",
       " 1294.189977800153,\n",
       " 1016.4790326846082]"
      ]
     },
     "execution_count": 19,
     "metadata": {},
     "output_type": "execute_result"
    }
   ],
   "source": [
    "wcss"
   ]
  },
  {
   "cell_type": "code",
   "execution_count": 20,
   "id": "4398b5e5",
   "metadata": {},
   "outputs": [
    {
     "data": {
      "text/plain": [
       "[<matplotlib.lines.Line2D at 0x1fab4754790>]"
      ]
     },
     "execution_count": 20,
     "metadata": {},
     "output_type": "execute_result"
    },
    {
     "data": {
      "image/png": "[encoded data removed]",
      "text/plain": [
       "<Figure size 432x288 with 1 Axes>"
      ]
     },
     "metadata": {
      "image/png": {
       "height": 248,
       "width": 388
      },
      "needs_background": "light"
     },
     "output_type": "display_data"
    }
   ],
   "source": [
    "plt.plot(range(1,11),wcss)"
   ]
  },
  {
   "cell_type": "code",
   "execution_count": 21,
   "id": "ddd5416c",
   "metadata": {},
   "outputs": [],
   "source": [
    "kmeans = KMeans(n_clusters=5,init='k-means++')\n",
    "y_means = kmeans.fit_predict(x)"
   ]
  },
  {
   "cell_type": "code",
   "execution_count": 22,
   "id": "f5700f7d",
   "metadata": {},
   "outputs": [
    {
     "data": {
      "text/plain": [
       "array([2, 2, 2, ..., 2, 2, 2])"
      ]
     },
     "execution_count": 22,
     "metadata": {},
     "output_type": "execute_result"
    }
   ],
   "source": [
    "y_means"
   ]
  },
  {
   "cell_type": "code",
   "execution_count": 23,
   "id": "e8b6533e",
   "metadata": {},
   "outputs": [
    {
     "data": {
      "text/html": [
       "<div>\n",
       "<style scoped>\n",
       "    .dataframe tbody tr th:only-of-type {\n",
       "        vertical-align: middle;\n",
       "    }\n",
       "\n",
       "    .dataframe tbody tr th {\n",
       "        vertical-align: top;\n",
       "    }\n",
       "\n",
       "    .dataframe thead th {\n",
       "        text-align: right;\n",
       "    }\n",
       "</style>\n",
       "<table border=\"1\" class=\"dataframe\">\n",
       "  <thead>\n",
       "    <tr style=\"text-align: right;\">\n",
       "      <th></th>\n",
       "      <th>P</th>\n",
       "      <th>q</th>\n",
       "      <th>M1</th>\n",
       "      <th>logM1</th>\n",
       "      <th>M2</th>\n",
       "      <th>logM2</th>\n",
       "      <th>R1</th>\n",
       "      <th>logR1</th>\n",
       "      <th>R2</th>\n",
       "      <th>logR2</th>\n",
       "      <th>...</th>\n",
       "      <th>logL1</th>\n",
       "      <th>L2</th>\n",
       "      <th>logL2</th>\n",
       "      <th>T1</th>\n",
       "      <th>logT1</th>\n",
       "      <th>T2</th>\n",
       "      <th>logT2</th>\n",
       "      <th>Type</th>\n",
       "      <th>Unnamed: 19</th>\n",
       "      <th>0</th>\n",
       "    </tr>\n",
       "  </thead>\n",
       "  <tbody>\n",
       "    <tr>\n",
       "      <th>0</th>\n",
       "      <td>0.316600</td>\n",
       "      <td>0.0787</td>\n",
       "      <td>1.246</td>\n",
       "      <td>0.095518</td>\n",
       "      <td>0.098</td>\n",
       "      <td>-1.008774</td>\n",
       "      <td>1.347</td>\n",
       "      <td>0.129368</td>\n",
       "      <td>0.409</td>\n",
       "      <td>-0.388277</td>\n",
       "      <td>...</td>\n",
       "      <td>0.413300</td>\n",
       "      <td>0.213</td>\n",
       "      <td>-0.671620</td>\n",
       "      <td>8510.137503</td>\n",
       "      <td>3.929937</td>\n",
       "      <td>2511.217871</td>\n",
       "      <td>3.399884</td>\n",
       "      <td>A-EW</td>\n",
       "      <td>NaN</td>\n",
       "      <td>2</td>\n",
       "    </tr>\n",
       "    <tr>\n",
       "      <th>1</th>\n",
       "      <td>0.217629</td>\n",
       "      <td>0.6780</td>\n",
       "      <td>0.620</td>\n",
       "      <td>-0.207608</td>\n",
       "      <td>0.420</td>\n",
       "      <td>-0.376751</td>\n",
       "      <td>0.730</td>\n",
       "      <td>-0.136677</td>\n",
       "      <td>0.640</td>\n",
       "      <td>-0.193820</td>\n",
       "      <td>...</td>\n",
       "      <td>-0.958607</td>\n",
       "      <td>0.024</td>\n",
       "      <td>-1.619789</td>\n",
       "      <td>3812.000000</td>\n",
       "      <td>3.581153</td>\n",
       "      <td>3135.000000</td>\n",
       "      <td>3.496238</td>\n",
       "      <td>A-EW</td>\n",
       "      <td>NaN</td>\n",
       "      <td>2</td>\n",
       "    </tr>\n",
       "    <tr>\n",
       "      <th>2</th>\n",
       "      <td>0.296800</td>\n",
       "      <td>0.1720</td>\n",
       "      <td>1.109</td>\n",
       "      <td>0.044932</td>\n",
       "      <td>0.192</td>\n",
       "      <td>-0.716699</td>\n",
       "      <td>1.148</td>\n",
       "      <td>0.059942</td>\n",
       "      <td>0.507</td>\n",
       "      <td>-0.294992</td>\n",
       "      <td>...</td>\n",
       "      <td>0.170262</td>\n",
       "      <td>0.340</td>\n",
       "      <td>-0.468521</td>\n",
       "      <td>6830.684264</td>\n",
       "      <td>3.834464</td>\n",
       "      <td>3142.690027</td>\n",
       "      <td>3.497302</td>\n",
       "      <td>A-EW</td>\n",
       "      <td>NaN</td>\n",
       "      <td>2</td>\n",
       "    </tr>\n",
       "    <tr>\n",
       "      <th>3</th>\n",
       "      <td>0.335200</td>\n",
       "      <td>0.1060</td>\n",
       "      <td>1.442</td>\n",
       "      <td>0.158965</td>\n",
       "      <td>0.155</td>\n",
       "      <td>-0.809668</td>\n",
       "      <td>1.521</td>\n",
       "      <td>0.182129</td>\n",
       "      <td>0.561</td>\n",
       "      <td>-0.251037</td>\n",
       "      <td>...</td>\n",
       "      <td>0.465977</td>\n",
       "      <td>0.401</td>\n",
       "      <td>-0.396856</td>\n",
       "      <td>9321.521112</td>\n",
       "      <td>3.969487</td>\n",
       "      <td>3445.048673</td>\n",
       "      <td>3.537195</td>\n",
       "      <td>A-EW</td>\n",
       "      <td>NaN</td>\n",
       "      <td>2</td>\n",
       "    </tr>\n",
       "    <tr>\n",
       "      <th>4</th>\n",
       "      <td>0.382600</td>\n",
       "      <td>0.1470</td>\n",
       "      <td>1.279</td>\n",
       "      <td>0.106871</td>\n",
       "      <td>0.179</td>\n",
       "      <td>-0.747147</td>\n",
       "      <td>1.435</td>\n",
       "      <td>0.156852</td>\n",
       "      <td>0.583</td>\n",
       "      <td>-0.234331</td>\n",
       "      <td>...</td>\n",
       "      <td>0.406540</td>\n",
       "      <td>0.410</td>\n",
       "      <td>-0.387216</td>\n",
       "      <td>8749.612792</td>\n",
       "      <td>3.941989</td>\n",
       "      <td>3531.490806</td>\n",
       "      <td>3.547958</td>\n",
       "      <td>A-EW</td>\n",
       "      <td>NaN</td>\n",
       "      <td>2</td>\n",
       "    </tr>\n",
       "    <tr>\n",
       "      <th>...</th>\n",
       "      <td>...</td>\n",
       "      <td>...</td>\n",
       "      <td>...</td>\n",
       "      <td>...</td>\n",
       "      <td>...</td>\n",
       "      <td>...</td>\n",
       "      <td>...</td>\n",
       "      <td>...</td>\n",
       "      <td>...</td>\n",
       "      <td>...</td>\n",
       "      <td>...</td>\n",
       "      <td>...</td>\n",
       "      <td>...</td>\n",
       "      <td>...</td>\n",
       "      <td>...</td>\n",
       "      <td>...</td>\n",
       "      <td>...</td>\n",
       "      <td>...</td>\n",
       "      <td>...</td>\n",
       "      <td>...</td>\n",
       "      <td>...</td>\n",
       "    </tr>\n",
       "    <tr>\n",
       "      <th>11630</th>\n",
       "      <td>0.395610</td>\n",
       "      <td>0.1500</td>\n",
       "      <td>1.730</td>\n",
       "      <td>0.238046</td>\n",
       "      <td>0.270</td>\n",
       "      <td>-0.568636</td>\n",
       "      <td>1.630</td>\n",
       "      <td>0.212188</td>\n",
       "      <td>0.750</td>\n",
       "      <td>-0.124939</td>\n",
       "      <td>...</td>\n",
       "      <td>0.802089</td>\n",
       "      <td>1.310</td>\n",
       "      <td>0.117271</td>\n",
       "      <td>7945.000000</td>\n",
       "      <td>3.900094</td>\n",
       "      <td>7966.260000</td>\n",
       "      <td>3.901254</td>\n",
       "      <td>W-EW</td>\n",
       "      <td>NaN</td>\n",
       "      <td>2</td>\n",
       "    </tr>\n",
       "    <tr>\n",
       "      <th>11631</th>\n",
       "      <td>0.483170</td>\n",
       "      <td>0.1400</td>\n",
       "      <td>1.620</td>\n",
       "      <td>0.209515</td>\n",
       "      <td>0.220</td>\n",
       "      <td>-0.657577</td>\n",
       "      <td>1.800</td>\n",
       "      <td>0.255273</td>\n",
       "      <td>0.760</td>\n",
       "      <td>-0.119186</td>\n",
       "      <td>...</td>\n",
       "      <td>0.686636</td>\n",
       "      <td>1.440</td>\n",
       "      <td>0.158362</td>\n",
       "      <td>7073.000000</td>\n",
       "      <td>3.849604</td>\n",
       "      <td>8020.720000</td>\n",
       "      <td>3.904213</td>\n",
       "      <td>W-EW</td>\n",
       "      <td>NaN</td>\n",
       "      <td>2</td>\n",
       "    </tr>\n",
       "    <tr>\n",
       "      <th>11632</th>\n",
       "      <td>0.368450</td>\n",
       "      <td>0.2200</td>\n",
       "      <td>1.390</td>\n",
       "      <td>0.143015</td>\n",
       "      <td>0.310</td>\n",
       "      <td>-0.508638</td>\n",
       "      <td>1.390</td>\n",
       "      <td>0.143015</td>\n",
       "      <td>0.740</td>\n",
       "      <td>-0.130768</td>\n",
       "      <td>...</td>\n",
       "      <td>0.406540</td>\n",
       "      <td>0.710</td>\n",
       "      <td>-0.148742</td>\n",
       "      <td>8142.000000</td>\n",
       "      <td>3.910731</td>\n",
       "      <td>8142.950000</td>\n",
       "      <td>3.910782</td>\n",
       "      <td>W-EW</td>\n",
       "      <td>NaN</td>\n",
       "      <td>2</td>\n",
       "    </tr>\n",
       "    <tr>\n",
       "      <th>11633</th>\n",
       "      <td>0.498300</td>\n",
       "      <td>0.4420</td>\n",
       "      <td>1.849</td>\n",
       "      <td>0.266937</td>\n",
       "      <td>0.818</td>\n",
       "      <td>-0.087247</td>\n",
       "      <td>1.775</td>\n",
       "      <td>0.249198</td>\n",
       "      <td>1.224</td>\n",
       "      <td>0.087781</td>\n",
       "      <td>...</td>\n",
       "      <td>0.704322</td>\n",
       "      <td>2.668</td>\n",
       "      <td>0.426186</td>\n",
       "      <td>11550.680000</td>\n",
       "      <td>4.062608</td>\n",
       "      <td>8172.689581</td>\n",
       "      <td>3.912365</td>\n",
       "      <td>W-EW</td>\n",
       "      <td>NaN</td>\n",
       "      <td>2</td>\n",
       "    </tr>\n",
       "    <tr>\n",
       "      <th>11634</th>\n",
       "      <td>0.369100</td>\n",
       "      <td>0.1500</td>\n",
       "      <td>1.380</td>\n",
       "      <td>0.139879</td>\n",
       "      <td>0.210</td>\n",
       "      <td>-0.677781</td>\n",
       "      <td>1.460</td>\n",
       "      <td>0.164353</td>\n",
       "      <td>0.680</td>\n",
       "      <td>-0.167491</td>\n",
       "      <td>...</td>\n",
       "      <td>0.394452</td>\n",
       "      <td>0.670</td>\n",
       "      <td>-0.173925</td>\n",
       "      <td>7759.000000</td>\n",
       "      <td>3.889806</td>\n",
       "      <td>8245.620000</td>\n",
       "      <td>3.916223</td>\n",
       "      <td>W-EW</td>\n",
       "      <td>NaN</td>\n",
       "      <td>2</td>\n",
       "    </tr>\n",
       "  </tbody>\n",
       "</table>\n",
       "<p>11635 rows × 21 columns</p>\n",
       "</div>"
      ],
      "text/plain": [
       "              P       q     M1     logM1     M2     logM2     R1     logR1  \\\n",
       "0      0.316600  0.0787  1.246  0.095518  0.098 -1.008774  1.347  0.129368   \n",
       "1      0.217629  0.6780  0.620 -0.207608  0.420 -0.376751  0.730 -0.136677   \n",
       "2      0.296800  0.1720  1.109  0.044932  0.192 -0.716699  1.148  0.059942   \n",
       "3      0.335200  0.1060  1.442  0.158965  0.155 -0.809668  1.521  0.182129   \n",
       "4      0.382600  0.1470  1.279  0.106871  0.179 -0.747147  1.435  0.156852   \n",
       "...         ...     ...    ...       ...    ...       ...    ...       ...   \n",
       "11630  0.395610  0.1500  1.730  0.238046  0.270 -0.568636  1.630  0.212188   \n",
       "11631  0.483170  0.1400  1.620  0.209515  0.220 -0.657577  1.800  0.255273   \n",
       "11632  0.368450  0.2200  1.390  0.143015  0.310 -0.508638  1.390  0.143015   \n",
       "11633  0.498300  0.4420  1.849  0.266937  0.818 -0.087247  1.775  0.249198   \n",
       "11634  0.369100  0.1500  1.380  0.139879  0.210 -0.677781  1.460  0.164353   \n",
       "\n",
       "          R2     logR2  ...     logL1     L2     logL2            T1  \\\n",
       "0      0.409 -0.388277  ...  0.413300  0.213 -0.671620   8510.137503   \n",
       "1      0.640 -0.193820  ... -0.958607  0.024 -1.619789   3812.000000   \n",
       "2      0.507 -0.294992  ...  0.170262  0.340 -0.468521   6830.684264   \n",
       "3      0.561 -0.251037  ...  0.465977  0.401 -0.396856   9321.521112   \n",
       "4      0.583 -0.234331  ...  0.406540  0.410 -0.387216   8749.612792   \n",
       "...      ...       ...  ...       ...    ...       ...           ...   \n",
       "11630  0.750 -0.124939  ...  0.802089  1.310  0.117271   7945.000000   \n",
       "11631  0.760 -0.119186  ...  0.686636  1.440  0.158362   7073.000000   \n",
       "11632  0.740 -0.130768  ...  0.406540  0.710 -0.148742   8142.000000   \n",
       "11633  1.224  0.087781  ...  0.704322  2.668  0.426186  11550.680000   \n",
       "11634  0.680 -0.167491  ...  0.394452  0.670 -0.173925   7759.000000   \n",
       "\n",
       "          logT1           T2     logT2  Type Unnamed: 19  0  \n",
       "0      3.929937  2511.217871  3.399884  A-EW         NaN  2  \n",
       "1      3.581153  3135.000000  3.496238  A-EW         NaN  2  \n",
       "2      3.834464  3142.690027  3.497302  A-EW         NaN  2  \n",
       "3      3.969487  3445.048673  3.537195  A-EW         NaN  2  \n",
       "4      3.941989  3531.490806  3.547958  A-EW         NaN  2  \n",
       "...         ...          ...       ...   ...         ... ..  \n",
       "11630  3.900094  7966.260000  3.901254  W-EW         NaN  2  \n",
       "11631  3.849604  8020.720000  3.904213  W-EW         NaN  2  \n",
       "11632  3.910731  8142.950000  3.910782  W-EW         NaN  2  \n",
       "11633  4.062608  8172.689581  3.912365  W-EW         NaN  2  \n",
       "11634  3.889806  8245.620000  3.916223  W-EW         NaN  2  \n",
       "\n",
       "[11635 rows x 21 columns]"
      ]
     },
     "execution_count": 23,
     "metadata": {},
     "output_type": "execute_result"
    }
   ],
   "source": [
    "pd.concat([df,pd.DataFrame(y_means)],axis=1)"
   ]
  },
  {
   "cell_type": "code",
   "execution_count": 24,
   "id": "59d5d0c1",
   "metadata": {},
   "outputs": [
    {
     "data": {
      "text/plain": [
       "<matplotlib.collections.PathCollection at 0x1fab56f8e50>"
      ]
     },
     "execution_count": 24,
     "metadata": {},
     "output_type": "execute_result"
    },
    {
     "data": {
      "image/png": "[encoded data removed]",
      "text/plain": [
       "<Figure size 432x288 with 1 Axes>"
      ]
     },
     "metadata": {
      "image/png": {
       "height": 248,
       "width": 368
      },
      "needs_background": "light"
     },
     "output_type": "display_data"
    }
   ],
   "source": [
    "plt.scatter(x[y_means==0,0], x[y_means==0,1], s=50,c='red')\n",
    "plt.scatter(x[y_means==1,0], x[y_means==1,1], s=50,c='green')\n",
    "plt.scatter(x[y_means==2,0], x[y_means==2,1], s=50,c='black')\n",
    "plt.scatter(x[y_means==3,0], x[y_means==3,1], s=50,c='blue')\n",
    "plt.scatter(x[y_means==4,0], x[y_means==4,1], s=50,c='purple')\n",
    "plt.scatter(x[y_means==5,0], x[y_means==5,1], s=50,c='yellow')\n",
    "\n"
   ]
  },
  {
   "cell_type": "code",
   "execution_count": null,
   "id": "c2be54c8",
   "metadata": {},
   "outputs": [],
   "source": []
  },
  {
   "cell_type": "code",
   "execution_count": null,
   "id": "6f9e453e",
   "metadata": {},
   "outputs": [],
   "source": []
  },
  {
   "cell_type": "code",
   "execution_count": null,
   "id": "f255ef8c",
   "metadata": {},
   "outputs": [],
   "source": []
  },
  {
   "cell_type": "code",
   "execution_count": null,
   "id": "c860bc17",
   "metadata": {},
   "outputs": [],
   "source": []
  }
 ],
 "metadata": {
  "kernelspec": {
   "display_name": "Python 3 (ipykernel)",
   "language": "python",
   "name": "python3"
  },
  "language_info": {
   "codemirror_mode": {
    "name": "ipython",
    "version": 3
   },
   "file_extension": ".py",
   "mimetype": "text/x-python",
   "name": "python",
   "nbconvert_exporter": "python",
   "pygments_lexer": "ipython3",
   "version": "3.9.7"
  }
 },
 "nbformat": 4,
 "nbformat_minor": 5
}
