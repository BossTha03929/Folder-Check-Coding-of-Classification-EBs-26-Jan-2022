{
 "cells": [
  {
   "cell_type": "code",
   "execution_count": 1,
   "id": "40598b43",
   "metadata": {},
   "outputs": [
    {
     "data": {
      "text/plain": [
       "'C:\\\\Users\\\\User\\\\Documents\\\\Project\\\\Check Coding Classification EBs 26 Jan 2022'"
      ]
     },
     "execution_count": 1,
     "metadata": {},
     "output_type": "execute_result"
    }
   ],
   "source": [
    "import pandas as pd\n",
    "import numpy as np\n",
    "import matplotlib.pyplot as plt\n",
    "from sklearn.cluster import KMeans\n",
    "import seaborn as sns\n",
    "%matplotlib inline\n",
    "%config InlineBackend.figure_format='retina'\n",
    "import os\n",
    "os.getcwd()"
   ]
  },
  {
   "cell_type": "code",
   "execution_count": 2,
   "id": "322c34ed",
   "metadata": {},
   "outputs": [],
   "source": [
    "from sklearn.cluster import KMeans\n",
    "import pandas as pd\n",
    "from sklearn.preprocessing import MinMaxScaler\n",
    "from matplotlib import pyplot as plt\n",
    "%matplotlib inline"
   ]
  },
  {
   "cell_type": "code",
   "execution_count": 3,
   "id": "87703086",
   "metadata": {
    "scrolled": true
   },
   "outputs": [
    {
     "data": {
      "text/html": [
       "<div>\n",
       "<style scoped>\n",
       "    .dataframe tbody tr th:only-of-type {\n",
       "        vertical-align: middle;\n",
       "    }\n",
       "\n",
       "    .dataframe tbody tr th {\n",
       "        vertical-align: top;\n",
       "    }\n",
       "\n",
       "    .dataframe thead th {\n",
       "        text-align: right;\n",
       "    }\n",
       "</style>\n",
       "<table border=\"1\" class=\"dataframe\">\n",
       "  <thead>\n",
       "    <tr style=\"text-align: right;\">\n",
       "      <th></th>\n",
       "      <th>P</th>\n",
       "      <th>q</th>\n",
       "      <th>M1</th>\n",
       "      <th>logM1</th>\n",
       "      <th>M2</th>\n",
       "      <th>logM2</th>\n",
       "      <th>R1</th>\n",
       "      <th>logR1</th>\n",
       "      <th>R2</th>\n",
       "      <th>logR2</th>\n",
       "      <th>L1</th>\n",
       "      <th>logL1</th>\n",
       "      <th>L2</th>\n",
       "      <th>logL2</th>\n",
       "      <th>T1</th>\n",
       "      <th>logT1</th>\n",
       "      <th>T2</th>\n",
       "      <th>logT2</th>\n",
       "      <th>Type</th>\n",
       "    </tr>\n",
       "  </thead>\n",
       "  <tbody>\n",
       "    <tr>\n",
       "      <th>0</th>\n",
       "      <td>0.316600</td>\n",
       "      <td>0.0787</td>\n",
       "      <td>1.246</td>\n",
       "      <td>0.095518</td>\n",
       "      <td>0.098</td>\n",
       "      <td>-1.008774</td>\n",
       "      <td>1.347</td>\n",
       "      <td>0.129368</td>\n",
       "      <td>0.409</td>\n",
       "      <td>-0.388277</td>\n",
       "      <td>2.590</td>\n",
       "      <td>0.413300</td>\n",
       "      <td>0.213</td>\n",
       "      <td>-0.671620</td>\n",
       "      <td>8510.137503</td>\n",
       "      <td>3.929937</td>\n",
       "      <td>2511.217871</td>\n",
       "      <td>3.399884</td>\n",
       "      <td>A-EW</td>\n",
       "    </tr>\n",
       "    <tr>\n",
       "      <th>1</th>\n",
       "      <td>0.217629</td>\n",
       "      <td>0.6780</td>\n",
       "      <td>0.620</td>\n",
       "      <td>-0.207608</td>\n",
       "      <td>0.420</td>\n",
       "      <td>-0.376751</td>\n",
       "      <td>0.730</td>\n",
       "      <td>-0.136677</td>\n",
       "      <td>0.640</td>\n",
       "      <td>-0.193820</td>\n",
       "      <td>0.110</td>\n",
       "      <td>-0.958607</td>\n",
       "      <td>0.024</td>\n",
       "      <td>-1.619789</td>\n",
       "      <td>3812.000000</td>\n",
       "      <td>3.581153</td>\n",
       "      <td>3135.000000</td>\n",
       "      <td>3.496238</td>\n",
       "      <td>A-EW</td>\n",
       "    </tr>\n",
       "    <tr>\n",
       "      <th>2</th>\n",
       "      <td>0.296800</td>\n",
       "      <td>0.1720</td>\n",
       "      <td>1.109</td>\n",
       "      <td>0.044932</td>\n",
       "      <td>0.192</td>\n",
       "      <td>-0.716699</td>\n",
       "      <td>1.148</td>\n",
       "      <td>0.059942</td>\n",
       "      <td>0.507</td>\n",
       "      <td>-0.294992</td>\n",
       "      <td>1.480</td>\n",
       "      <td>0.170262</td>\n",
       "      <td>0.340</td>\n",
       "      <td>-0.468521</td>\n",
       "      <td>6830.684264</td>\n",
       "      <td>3.834464</td>\n",
       "      <td>3142.690027</td>\n",
       "      <td>3.497302</td>\n",
       "      <td>A-EW</td>\n",
       "    </tr>\n",
       "    <tr>\n",
       "      <th>3</th>\n",
       "      <td>0.335200</td>\n",
       "      <td>0.1060</td>\n",
       "      <td>1.442</td>\n",
       "      <td>0.158965</td>\n",
       "      <td>0.155</td>\n",
       "      <td>-0.809668</td>\n",
       "      <td>1.521</td>\n",
       "      <td>0.182129</td>\n",
       "      <td>0.561</td>\n",
       "      <td>-0.251037</td>\n",
       "      <td>2.924</td>\n",
       "      <td>0.465977</td>\n",
       "      <td>0.401</td>\n",
       "      <td>-0.396856</td>\n",
       "      <td>9321.521112</td>\n",
       "      <td>3.969487</td>\n",
       "      <td>3445.048673</td>\n",
       "      <td>3.537195</td>\n",
       "      <td>A-EW</td>\n",
       "    </tr>\n",
       "    <tr>\n",
       "      <th>4</th>\n",
       "      <td>0.382600</td>\n",
       "      <td>0.1470</td>\n",
       "      <td>1.279</td>\n",
       "      <td>0.106871</td>\n",
       "      <td>0.179</td>\n",
       "      <td>-0.747147</td>\n",
       "      <td>1.435</td>\n",
       "      <td>0.156852</td>\n",
       "      <td>0.583</td>\n",
       "      <td>-0.234331</td>\n",
       "      <td>2.550</td>\n",
       "      <td>0.406540</td>\n",
       "      <td>0.410</td>\n",
       "      <td>-0.387216</td>\n",
       "      <td>8749.612792</td>\n",
       "      <td>3.941989</td>\n",
       "      <td>3531.490806</td>\n",
       "      <td>3.547958</td>\n",
       "      <td>A-EW</td>\n",
       "    </tr>\n",
       "    <tr>\n",
       "      <th>...</th>\n",
       "      <td>...</td>\n",
       "      <td>...</td>\n",
       "      <td>...</td>\n",
       "      <td>...</td>\n",
       "      <td>...</td>\n",
       "      <td>...</td>\n",
       "      <td>...</td>\n",
       "      <td>...</td>\n",
       "      <td>...</td>\n",
       "      <td>...</td>\n",
       "      <td>...</td>\n",
       "      <td>...</td>\n",
       "      <td>...</td>\n",
       "      <td>...</td>\n",
       "      <td>...</td>\n",
       "      <td>...</td>\n",
       "      <td>...</td>\n",
       "      <td>...</td>\n",
       "      <td>...</td>\n",
       "    </tr>\n",
       "    <tr>\n",
       "      <th>11141</th>\n",
       "      <td>0.395610</td>\n",
       "      <td>0.1500</td>\n",
       "      <td>1.730</td>\n",
       "      <td>0.238046</td>\n",
       "      <td>0.270</td>\n",
       "      <td>-0.568636</td>\n",
       "      <td>1.630</td>\n",
       "      <td>0.212188</td>\n",
       "      <td>0.750</td>\n",
       "      <td>-0.124939</td>\n",
       "      <td>6.340</td>\n",
       "      <td>0.802089</td>\n",
       "      <td>1.310</td>\n",
       "      <td>0.117271</td>\n",
       "      <td>7945.000000</td>\n",
       "      <td>3.900094</td>\n",
       "      <td>7966.260000</td>\n",
       "      <td>3.901254</td>\n",
       "      <td>W-EW</td>\n",
       "    </tr>\n",
       "    <tr>\n",
       "      <th>11142</th>\n",
       "      <td>0.483170</td>\n",
       "      <td>0.1400</td>\n",
       "      <td>1.620</td>\n",
       "      <td>0.209515</td>\n",
       "      <td>0.220</td>\n",
       "      <td>-0.657577</td>\n",
       "      <td>1.800</td>\n",
       "      <td>0.255273</td>\n",
       "      <td>0.760</td>\n",
       "      <td>-0.119186</td>\n",
       "      <td>4.860</td>\n",
       "      <td>0.686636</td>\n",
       "      <td>1.440</td>\n",
       "      <td>0.158362</td>\n",
       "      <td>7073.000000</td>\n",
       "      <td>3.849604</td>\n",
       "      <td>8020.720000</td>\n",
       "      <td>3.904213</td>\n",
       "      <td>W-EW</td>\n",
       "    </tr>\n",
       "    <tr>\n",
       "      <th>11143</th>\n",
       "      <td>0.368450</td>\n",
       "      <td>0.2200</td>\n",
       "      <td>1.390</td>\n",
       "      <td>0.143015</td>\n",
       "      <td>0.310</td>\n",
       "      <td>-0.508638</td>\n",
       "      <td>1.390</td>\n",
       "      <td>0.143015</td>\n",
       "      <td>0.740</td>\n",
       "      <td>-0.130768</td>\n",
       "      <td>2.550</td>\n",
       "      <td>0.406540</td>\n",
       "      <td>0.710</td>\n",
       "      <td>-0.148742</td>\n",
       "      <td>8142.000000</td>\n",
       "      <td>3.910731</td>\n",
       "      <td>8142.950000</td>\n",
       "      <td>3.910782</td>\n",
       "      <td>W-EW</td>\n",
       "    </tr>\n",
       "    <tr>\n",
       "      <th>11144</th>\n",
       "      <td>0.498300</td>\n",
       "      <td>0.4420</td>\n",
       "      <td>1.849</td>\n",
       "      <td>0.266937</td>\n",
       "      <td>0.818</td>\n",
       "      <td>-0.087247</td>\n",
       "      <td>1.775</td>\n",
       "      <td>0.249198</td>\n",
       "      <td>1.224</td>\n",
       "      <td>0.087781</td>\n",
       "      <td>5.062</td>\n",
       "      <td>0.704322</td>\n",
       "      <td>2.668</td>\n",
       "      <td>0.426186</td>\n",
       "      <td>11550.680000</td>\n",
       "      <td>4.062608</td>\n",
       "      <td>8172.689581</td>\n",
       "      <td>3.912365</td>\n",
       "      <td>W-EW</td>\n",
       "    </tr>\n",
       "    <tr>\n",
       "      <th>11145</th>\n",
       "      <td>0.369100</td>\n",
       "      <td>0.1500</td>\n",
       "      <td>1.380</td>\n",
       "      <td>0.139879</td>\n",
       "      <td>0.210</td>\n",
       "      <td>-0.677781</td>\n",
       "      <td>1.460</td>\n",
       "      <td>0.164353</td>\n",
       "      <td>0.680</td>\n",
       "      <td>-0.167491</td>\n",
       "      <td>2.480</td>\n",
       "      <td>0.394452</td>\n",
       "      <td>0.670</td>\n",
       "      <td>-0.173925</td>\n",
       "      <td>7759.000000</td>\n",
       "      <td>3.889806</td>\n",
       "      <td>8245.620000</td>\n",
       "      <td>3.916223</td>\n",
       "      <td>W-EW</td>\n",
       "    </tr>\n",
       "  </tbody>\n",
       "</table>\n",
       "<p>11146 rows × 19 columns</p>\n",
       "</div>"
      ],
      "text/plain": [
       "              P       q     M1     logM1     M2     logM2     R1     logR1  \\\n",
       "0      0.316600  0.0787  1.246  0.095518  0.098 -1.008774  1.347  0.129368   \n",
       "1      0.217629  0.6780  0.620 -0.207608  0.420 -0.376751  0.730 -0.136677   \n",
       "2      0.296800  0.1720  1.109  0.044932  0.192 -0.716699  1.148  0.059942   \n",
       "3      0.335200  0.1060  1.442  0.158965  0.155 -0.809668  1.521  0.182129   \n",
       "4      0.382600  0.1470  1.279  0.106871  0.179 -0.747147  1.435  0.156852   \n",
       "...         ...     ...    ...       ...    ...       ...    ...       ...   \n",
       "11141  0.395610  0.1500  1.730  0.238046  0.270 -0.568636  1.630  0.212188   \n",
       "11142  0.483170  0.1400  1.620  0.209515  0.220 -0.657577  1.800  0.255273   \n",
       "11143  0.368450  0.2200  1.390  0.143015  0.310 -0.508638  1.390  0.143015   \n",
       "11144  0.498300  0.4420  1.849  0.266937  0.818 -0.087247  1.775  0.249198   \n",
       "11145  0.369100  0.1500  1.380  0.139879  0.210 -0.677781  1.460  0.164353   \n",
       "\n",
       "          R2     logR2     L1     logL1     L2     logL2            T1  \\\n",
       "0      0.409 -0.388277  2.590  0.413300  0.213 -0.671620   8510.137503   \n",
       "1      0.640 -0.193820  0.110 -0.958607  0.024 -1.619789   3812.000000   \n",
       "2      0.507 -0.294992  1.480  0.170262  0.340 -0.468521   6830.684264   \n",
       "3      0.561 -0.251037  2.924  0.465977  0.401 -0.396856   9321.521112   \n",
       "4      0.583 -0.234331  2.550  0.406540  0.410 -0.387216   8749.612792   \n",
       "...      ...       ...    ...       ...    ...       ...           ...   \n",
       "11141  0.750 -0.124939  6.340  0.802089  1.310  0.117271   7945.000000   \n",
       "11142  0.760 -0.119186  4.860  0.686636  1.440  0.158362   7073.000000   \n",
       "11143  0.740 -0.130768  2.550  0.406540  0.710 -0.148742   8142.000000   \n",
       "11144  1.224  0.087781  5.062  0.704322  2.668  0.426186  11550.680000   \n",
       "11145  0.680 -0.167491  2.480  0.394452  0.670 -0.173925   7759.000000   \n",
       "\n",
       "          logT1           T2     logT2  Type  \n",
       "0      3.929937  2511.217871  3.399884  A-EW  \n",
       "1      3.581153  3135.000000  3.496238  A-EW  \n",
       "2      3.834464  3142.690027  3.497302  A-EW  \n",
       "3      3.969487  3445.048673  3.537195  A-EW  \n",
       "4      3.941989  3531.490806  3.547958  A-EW  \n",
       "...         ...          ...       ...   ...  \n",
       "11141  3.900094  7966.260000  3.901254  W-EW  \n",
       "11142  3.849604  8020.720000  3.904213  W-EW  \n",
       "11143  3.910731  8142.950000  3.910782  W-EW  \n",
       "11144  4.062608  8172.689581  3.912365  W-EW  \n",
       "11145  3.889806  8245.620000  3.916223  W-EW  \n",
       "\n",
       "[11146 rows x 19 columns]"
      ]
     },
     "execution_count": 3,
     "metadata": {},
     "output_type": "execute_result"
    }
   ],
   "source": [
    "df =pd.read_csv(\"L_Type_5_Group.csv\", encoding=\"ISO-8859-1\")\n",
    "df"
   ]
  },
  {
   "cell_type": "code",
   "execution_count": 4,
   "id": "603c3aca",
   "metadata": {},
   "outputs": [
    {
     "data": {
      "text/plain": [
       "11146"
      ]
     },
     "execution_count": 4,
     "metadata": {},
     "output_type": "execute_result"
    }
   ],
   "source": [
    "len(df)"
   ]
  },
  {
   "cell_type": "code",
   "execution_count": 5,
   "id": "a3a31f1b",
   "metadata": {},
   "outputs": [
    {
     "data": {
      "text/plain": [
       "Index(['P', 'q', 'M1', 'logM1', 'M2', 'logM2', 'R1', 'logR1', 'R2', 'logR2',\n",
       "       'L1', 'logL1', 'L2', 'logL2', 'T1', 'logT1', 'T2', 'logT2', 'Type'],\n",
       "      dtype='object')"
      ]
     },
     "execution_count": 5,
     "metadata": {},
     "output_type": "execute_result"
    }
   ],
   "source": [
    "#เช็ค colums ทั้งหมดของงาน\n",
    "df.columns"
   ]
  },
  {
   "cell_type": "code",
   "execution_count": 6,
   "id": "d72a1e31",
   "metadata": {},
   "outputs": [
    {
     "name": "stdout",
     "output_type": "stream",
     "text": [
      "<class 'pandas.core.frame.DataFrame'>\n",
      "RangeIndex: 11146 entries, 0 to 11145\n",
      "Data columns (total 19 columns):\n",
      " #   Column  Non-Null Count  Dtype  \n",
      "---  ------  --------------  -----  \n",
      " 0   P       11146 non-null  float64\n",
      " 1   q       11146 non-null  float64\n",
      " 2   M1      11146 non-null  float64\n",
      " 3   logM1   11146 non-null  float64\n",
      " 4   M2      11146 non-null  float64\n",
      " 5   logM2   11146 non-null  float64\n",
      " 6   R1      11146 non-null  float64\n",
      " 7   logR1   11146 non-null  float64\n",
      " 8   R2      11146 non-null  float64\n",
      " 9   logR2   11146 non-null  float64\n",
      " 10  L1      11146 non-null  float64\n",
      " 11  logL1   11146 non-null  float64\n",
      " 12  L2      11146 non-null  float64\n",
      " 13  logL2   11146 non-null  float64\n",
      " 14  T1      11146 non-null  float64\n",
      " 15  logT1   11146 non-null  float64\n",
      " 16  T2      11146 non-null  float64\n",
      " 17  logT2   11146 non-null  float64\n",
      " 18  Type    11146 non-null  object \n",
      "dtypes: float64(18), object(1)\n",
      "memory usage: 1.6+ MB\n"
     ]
    }
   ],
   "source": [
    "#เช็คประเภทของของข้อมูลในแต่ละคอลัมน์\n",
    "df.info()"
   ]
  },
  {
   "cell_type": "code",
   "execution_count": 7,
   "id": "716063e2",
   "metadata": {},
   "outputs": [
    {
     "data": {
      "text/plain": [
       "EA      6372\n",
       "W-EW    1832\n",
       "EB      1034\n",
       "A-EW     997\n",
       "EW       911\n",
       "Name: Type, dtype: int64"
      ]
     },
     "execution_count": 7,
     "metadata": {},
     "output_type": "execute_result"
    }
   ],
   "source": [
    "#เช็คประภทของดาวคู่ที่พิจารณาจากโรชซ์โมเดล\n",
    "df.Type.value_counts()"
   ]
  },
  {
   "cell_type": "code",
   "execution_count": 8,
   "id": "e0a1a47c",
   "metadata": {},
   "outputs": [],
   "source": [
    "from sklearn.cluster import KMeans"
   ]
  },
  {
   "cell_type": "code",
   "execution_count": 9,
   "id": "eb0f63ce",
   "metadata": {},
   "outputs": [],
   "source": [
    "x = df[['P', 'q', 'M1', 'logM1', 'M2', 'logM2', 'R1', 'logR1',\n",
    "       'R2', 'logR2', 'L1', 'logL1', 'L2', 'logL2', 'T1', 'logT1', 'T2',\n",
    "       'logT2']]"
   ]
  },
  {
   "cell_type": "code",
   "execution_count": 10,
   "id": "9deb9edb",
   "metadata": {},
   "outputs": [
    {
     "data": {
      "text/plain": [
       "KMeans(n_clusters=4)"
      ]
     },
     "execution_count": 10,
     "metadata": {},
     "output_type": "execute_result"
    }
   ],
   "source": [
    "model = KMeans(n_clusters=4)\n",
    "model"
   ]
  },
  {
   "cell_type": "code",
   "execution_count": 11,
   "id": "e07b7446",
   "metadata": {},
   "outputs": [
    {
     "data": {
      "text/plain": [
       "KMeans(n_clusters=4)"
      ]
     },
     "execution_count": 11,
     "metadata": {},
     "output_type": "execute_result"
    }
   ],
   "source": [
    "model.fit(x)"
   ]
  },
  {
   "cell_type": "code",
   "execution_count": 12,
   "id": "71ad6ffa",
   "metadata": {},
   "outputs": [
    {
     "data": {
      "text/plain": [
       "array([[ 9.13672319e+00,  3.78923572e-01,  2.23039227e+00,\n",
       "         2.70543298e-01,  9.38477430e-01, -2.26376982e-01,\n",
       "         2.29665999e+00,  2.61083901e-01,  2.59139388e+00,\n",
       "         2.22860459e-01,  2.60531394e+02,  9.95152826e-01,\n",
       "         1.05821631e+02,  4.45438080e-01,  7.93862442e+03,\n",
       "         3.87772019e+00,  5.96452818e+03,  3.76111243e+00],\n",
       "       [ 2.72289170e+00,  7.41666667e-01,  2.37166667e+01,\n",
       "         1.37079195e+00,  1.77500000e+01,  1.23846300e+00,\n",
       "         1.28166667e+01,  1.09381619e+00,  1.38833333e+01,\n",
       "         1.13814762e+00,  7.55085992e+04,  4.86579003e+00,\n",
       "         2.54333333e+05,  5.40134582e+00,  3.31670000e+04,\n",
       "         4.52051422e+00,  2.62000000e+04,  4.39822398e+00],\n",
       "       [ 2.11359554e+00,  8.32000000e-01,  2.54940000e+01,\n",
       "         1.39706166e+00,  2.11060000e+01,  1.31197491e+00,\n",
       "         1.29200000e+01,  1.07560778e+00,  1.20300000e+01,\n",
       "         1.03600618e+00,  3.08059620e+05,  5.48779724e+00,\n",
       "         1.71651369e+05,  5.16130606e+00,  3.41780000e+04,\n",
       "         4.53048880e+00,  3.34600000e+04,  4.52157307e+00],\n",
       "       [ 3.61657722e+00,  5.80400000e-01,  1.54680000e+01,\n",
       "         1.14074072e+00,  9.97120000e+00,  8.37288997e-01,\n",
       "         8.65600000e+00,  9.04874167e-01,  8.34400000e+00,\n",
       "         8.89843076e-01,  1.51874895e+05,  5.16841252e+00,\n",
       "         3.20376993e+04,  3.46386241e+00,  2.56344000e+04,\n",
       "         4.34774270e+00,  2.07863200e+04,  4.22513459e+00]])"
      ]
     },
     "execution_count": 12,
     "metadata": {},
     "output_type": "execute_result"
    }
   ],
   "source": [
    "model.cluster_centers_"
   ]
  },
  {
   "cell_type": "code",
   "execution_count": 13,
   "id": "5c7762fb",
   "metadata": {},
   "outputs": [
    {
     "data": {
      "text/plain": [
       "array([0, 0, 0, ..., 0, 0, 0])"
      ]
     },
     "execution_count": 13,
     "metadata": {},
     "output_type": "execute_result"
    }
   ],
   "source": [
    "model.labels_"
   ]
  },
  {
   "cell_type": "code",
   "execution_count": 14,
   "id": "e303d078",
   "metadata": {},
   "outputs": [
    {
     "data": {
      "text/plain": [
       "array(['A-EW', 'A-EW', 'A-EW', ..., 'W-EW', 'W-EW', 'W-EW'], dtype=object)"
      ]
     },
     "execution_count": 14,
     "metadata": {},
     "output_type": "execute_result"
    }
   ],
   "source": [
    "df['Type'].values"
   ]
  },
  {
   "cell_type": "code",
   "execution_count": 15,
   "id": "9ddccfb6",
   "metadata": {
    "scrolled": true
   },
   "outputs": [
    {
     "data": {
      "text/html": [
       "<div>\n",
       "<style scoped>\n",
       "    .dataframe tbody tr th:only-of-type {\n",
       "        vertical-align: middle;\n",
       "    }\n",
       "\n",
       "    .dataframe tbody tr th {\n",
       "        vertical-align: top;\n",
       "    }\n",
       "\n",
       "    .dataframe thead th {\n",
       "        text-align: right;\n",
       "    }\n",
       "</style>\n",
       "<table border=\"1\" class=\"dataframe\">\n",
       "  <thead>\n",
       "    <tr style=\"text-align: right;\">\n",
       "      <th>col_0</th>\n",
       "      <th>0</th>\n",
       "      <th>1</th>\n",
       "      <th>2</th>\n",
       "      <th>3</th>\n",
       "    </tr>\n",
       "    <tr>\n",
       "      <th>Type</th>\n",
       "      <th></th>\n",
       "      <th></th>\n",
       "      <th></th>\n",
       "      <th></th>\n",
       "    </tr>\n",
       "  </thead>\n",
       "  <tbody>\n",
       "    <tr>\n",
       "      <th>A-EW</th>\n",
       "      <td>997</td>\n",
       "      <td>0</td>\n",
       "      <td>0</td>\n",
       "      <td>0</td>\n",
       "    </tr>\n",
       "    <tr>\n",
       "      <th>EA</th>\n",
       "      <td>6354</td>\n",
       "      <td>1</td>\n",
       "      <td>2</td>\n",
       "      <td>15</td>\n",
       "    </tr>\n",
       "    <tr>\n",
       "      <th>EB</th>\n",
       "      <td>1015</td>\n",
       "      <td>5</td>\n",
       "      <td>4</td>\n",
       "      <td>10</td>\n",
       "    </tr>\n",
       "    <tr>\n",
       "      <th>EW</th>\n",
       "      <td>907</td>\n",
       "      <td>0</td>\n",
       "      <td>4</td>\n",
       "      <td>0</td>\n",
       "    </tr>\n",
       "    <tr>\n",
       "      <th>W-EW</th>\n",
       "      <td>1832</td>\n",
       "      <td>0</td>\n",
       "      <td>0</td>\n",
       "      <td>0</td>\n",
       "    </tr>\n",
       "  </tbody>\n",
       "</table>\n",
       "</div>"
      ],
      "text/plain": [
       "col_0     0  1  2   3\n",
       "Type                 \n",
       "A-EW    997  0  0   0\n",
       "EA     6354  1  2  15\n",
       "EB     1015  5  4  10\n",
       "EW      907  0  4   0\n",
       "W-EW   1832  0  0   0"
      ]
     },
     "execution_count": 15,
     "metadata": {},
     "output_type": "execute_result"
    }
   ],
   "source": [
    "pd.crosstab((df['Type']),model.labels_)"
   ]
  },
  {
   "cell_type": "code",
   "execution_count": 16,
   "id": "58d5f90f",
   "metadata": {},
   "outputs": [],
   "source": [
    "x = df.iloc[:,3:5].values"
   ]
  },
  {
   "cell_type": "code",
   "execution_count": 17,
   "id": "bdf542d3",
   "metadata": {},
   "outputs": [
    {
     "data": {
      "text/plain": [
       "array([[ 0.09551804,  0.098     ],\n",
       "       [-0.20760831,  0.42      ],\n",
       "       [ 0.04493155,  0.192     ],\n",
       "       ...,\n",
       "       [ 0.1430148 ,  0.31      ],\n",
       "       [ 0.26693691,  0.818     ],\n",
       "       [ 0.13987909,  0.21      ]])"
      ]
     },
     "execution_count": 17,
     "metadata": {},
     "output_type": "execute_result"
    }
   ],
   "source": [
    "x"
   ]
  },
  {
   "cell_type": "code",
   "execution_count": 18,
   "id": "1be15df9",
   "metadata": {},
   "outputs": [],
   "source": [
    "from sklearn.cluster import KMeans\n",
    "wcss = []\n",
    "for i in range(1,11):\n",
    "    kmeans = KMeans(n_clusters=i,init='k-means++')\n",
    "    kmeans.fit(x)\n",
    "    wcss.append(kmeans.inertia_)"
   ]
  },
  {
   "cell_type": "code",
   "execution_count": 19,
   "id": "101d12c6",
   "metadata": {},
   "outputs": [
    {
     "data": {
      "text/plain": [
       "[41296.56004471986,\n",
       " 15072.867641850009,\n",
       " 9050.549768894738,\n",
       " 5482.548648889325,\n",
       " 3752.4453794513165,\n",
       " 2881.521221885,\n",
       " 2104.542999791904,\n",
       " 1508.0582491251341,\n",
       " 1234.853167799816,\n",
       " 968.4841297468333]"
      ]
     },
     "execution_count": 19,
     "metadata": {},
     "output_type": "execute_result"
    }
   ],
   "source": [
    "wcss"
   ]
  },
  {
   "cell_type": "code",
   "execution_count": 20,
   "id": "4398b5e5",
   "metadata": {},
   "outputs": [
    {
     "data": {
      "text/plain": [
       "[<matplotlib.lines.Line2D at 0x22e68ea47c0>]"
      ]
     },
     "execution_count": 20,
     "metadata": {},
     "output_type": "execute_result"
    },
    {
     "data": {
      "image/png": "[encoded data removed]",
      "text/plain": [
       "<Figure size 432x288 with 1 Axes>"
      ]
     },
     "metadata": {
      "image/png": {
       "height": 248,
       "width": 388
      },
      "needs_background": "light"
     },
     "output_type": "display_data"
    }
   ],
   "source": [
    "plt.plot(range(1,11),wcss)"
   ]
  },
  {
   "cell_type": "code",
   "execution_count": 21,
   "id": "ddd5416c",
   "metadata": {},
   "outputs": [],
   "source": [
    "kmeans = KMeans(n_clusters=4,init='k-means++')\n",
    "y_means = kmeans.fit_predict(x)"
   ]
  },
  {
   "cell_type": "code",
   "execution_count": 22,
   "id": "f5700f7d",
   "metadata": {},
   "outputs": [
    {
     "data": {
      "text/plain": [
       "array([0, 0, 0, ..., 0, 0, 0])"
      ]
     },
     "execution_count": 22,
     "metadata": {},
     "output_type": "execute_result"
    }
   ],
   "source": [
    "y_means"
   ]
  },
  {
   "cell_type": "code",
   "execution_count": 23,
   "id": "e8b6533e",
   "metadata": {},
   "outputs": [
    {
     "data": {
      "text/html": [
       "<div>\n",
       "<style scoped>\n",
       "    .dataframe tbody tr th:only-of-type {\n",
       "        vertical-align: middle;\n",
       "    }\n",
       "\n",
       "    .dataframe tbody tr th {\n",
       "        vertical-align: top;\n",
       "    }\n",
       "\n",
       "    .dataframe thead th {\n",
       "        text-align: right;\n",
       "    }\n",
       "</style>\n",
       "<table border=\"1\" class=\"dataframe\">\n",
       "  <thead>\n",
       "    <tr style=\"text-align: right;\">\n",
       "      <th></th>\n",
       "      <th>P</th>\n",
       "      <th>q</th>\n",
       "      <th>M1</th>\n",
       "      <th>logM1</th>\n",
       "      <th>M2</th>\n",
       "      <th>logM2</th>\n",
       "      <th>R1</th>\n",
       "      <th>logR1</th>\n",
       "      <th>R2</th>\n",
       "      <th>logR2</th>\n",
       "      <th>L1</th>\n",
       "      <th>logL1</th>\n",
       "      <th>L2</th>\n",
       "      <th>logL2</th>\n",
       "      <th>T1</th>\n",
       "      <th>logT1</th>\n",
       "      <th>T2</th>\n",
       "      <th>logT2</th>\n",
       "      <th>Type</th>\n",
       "      <th>0</th>\n",
       "    </tr>\n",
       "  </thead>\n",
       "  <tbody>\n",
       "    <tr>\n",
       "      <th>0</th>\n",
       "      <td>0.316600</td>\n",
       "      <td>0.0787</td>\n",
       "      <td>1.246</td>\n",
       "      <td>0.095518</td>\n",
       "      <td>0.098</td>\n",
       "      <td>-1.008774</td>\n",
       "      <td>1.347</td>\n",
       "      <td>0.129368</td>\n",
       "      <td>0.409</td>\n",
       "      <td>-0.388277</td>\n",
       "      <td>2.590</td>\n",
       "      <td>0.413300</td>\n",
       "      <td>0.213</td>\n",
       "      <td>-0.671620</td>\n",
       "      <td>8510.137503</td>\n",
       "      <td>3.929937</td>\n",
       "      <td>2511.217871</td>\n",
       "      <td>3.399884</td>\n",
       "      <td>A-EW</td>\n",
       "      <td>0</td>\n",
       "    </tr>\n",
       "    <tr>\n",
       "      <th>1</th>\n",
       "      <td>0.217629</td>\n",
       "      <td>0.6780</td>\n",
       "      <td>0.620</td>\n",
       "      <td>-0.207608</td>\n",
       "      <td>0.420</td>\n",
       "      <td>-0.376751</td>\n",
       "      <td>0.730</td>\n",
       "      <td>-0.136677</td>\n",
       "      <td>0.640</td>\n",
       "      <td>-0.193820</td>\n",
       "      <td>0.110</td>\n",
       "      <td>-0.958607</td>\n",
       "      <td>0.024</td>\n",
       "      <td>-1.619789</td>\n",
       "      <td>3812.000000</td>\n",
       "      <td>3.581153</td>\n",
       "      <td>3135.000000</td>\n",
       "      <td>3.496238</td>\n",
       "      <td>A-EW</td>\n",
       "      <td>0</td>\n",
       "    </tr>\n",
       "    <tr>\n",
       "      <th>2</th>\n",
       "      <td>0.296800</td>\n",
       "      <td>0.1720</td>\n",
       "      <td>1.109</td>\n",
       "      <td>0.044932</td>\n",
       "      <td>0.192</td>\n",
       "      <td>-0.716699</td>\n",
       "      <td>1.148</td>\n",
       "      <td>0.059942</td>\n",
       "      <td>0.507</td>\n",
       "      <td>-0.294992</td>\n",
       "      <td>1.480</td>\n",
       "      <td>0.170262</td>\n",
       "      <td>0.340</td>\n",
       "      <td>-0.468521</td>\n",
       "      <td>6830.684264</td>\n",
       "      <td>3.834464</td>\n",
       "      <td>3142.690027</td>\n",
       "      <td>3.497302</td>\n",
       "      <td>A-EW</td>\n",
       "      <td>0</td>\n",
       "    </tr>\n",
       "    <tr>\n",
       "      <th>3</th>\n",
       "      <td>0.335200</td>\n",
       "      <td>0.1060</td>\n",
       "      <td>1.442</td>\n",
       "      <td>0.158965</td>\n",
       "      <td>0.155</td>\n",
       "      <td>-0.809668</td>\n",
       "      <td>1.521</td>\n",
       "      <td>0.182129</td>\n",
       "      <td>0.561</td>\n",
       "      <td>-0.251037</td>\n",
       "      <td>2.924</td>\n",
       "      <td>0.465977</td>\n",
       "      <td>0.401</td>\n",
       "      <td>-0.396856</td>\n",
       "      <td>9321.521112</td>\n",
       "      <td>3.969487</td>\n",
       "      <td>3445.048673</td>\n",
       "      <td>3.537195</td>\n",
       "      <td>A-EW</td>\n",
       "      <td>0</td>\n",
       "    </tr>\n",
       "    <tr>\n",
       "      <th>4</th>\n",
       "      <td>0.382600</td>\n",
       "      <td>0.1470</td>\n",
       "      <td>1.279</td>\n",
       "      <td>0.106871</td>\n",
       "      <td>0.179</td>\n",
       "      <td>-0.747147</td>\n",
       "      <td>1.435</td>\n",
       "      <td>0.156852</td>\n",
       "      <td>0.583</td>\n",
       "      <td>-0.234331</td>\n",
       "      <td>2.550</td>\n",
       "      <td>0.406540</td>\n",
       "      <td>0.410</td>\n",
       "      <td>-0.387216</td>\n",
       "      <td>8749.612792</td>\n",
       "      <td>3.941989</td>\n",
       "      <td>3531.490806</td>\n",
       "      <td>3.547958</td>\n",
       "      <td>A-EW</td>\n",
       "      <td>0</td>\n",
       "    </tr>\n",
       "    <tr>\n",
       "      <th>...</th>\n",
       "      <td>...</td>\n",
       "      <td>...</td>\n",
       "      <td>...</td>\n",
       "      <td>...</td>\n",
       "      <td>...</td>\n",
       "      <td>...</td>\n",
       "      <td>...</td>\n",
       "      <td>...</td>\n",
       "      <td>...</td>\n",
       "      <td>...</td>\n",
       "      <td>...</td>\n",
       "      <td>...</td>\n",
       "      <td>...</td>\n",
       "      <td>...</td>\n",
       "      <td>...</td>\n",
       "      <td>...</td>\n",
       "      <td>...</td>\n",
       "      <td>...</td>\n",
       "      <td>...</td>\n",
       "      <td>...</td>\n",
       "    </tr>\n",
       "    <tr>\n",
       "      <th>11141</th>\n",
       "      <td>0.395610</td>\n",
       "      <td>0.1500</td>\n",
       "      <td>1.730</td>\n",
       "      <td>0.238046</td>\n",
       "      <td>0.270</td>\n",
       "      <td>-0.568636</td>\n",
       "      <td>1.630</td>\n",
       "      <td>0.212188</td>\n",
       "      <td>0.750</td>\n",
       "      <td>-0.124939</td>\n",
       "      <td>6.340</td>\n",
       "      <td>0.802089</td>\n",
       "      <td>1.310</td>\n",
       "      <td>0.117271</td>\n",
       "      <td>7945.000000</td>\n",
       "      <td>3.900094</td>\n",
       "      <td>7966.260000</td>\n",
       "      <td>3.901254</td>\n",
       "      <td>W-EW</td>\n",
       "      <td>0</td>\n",
       "    </tr>\n",
       "    <tr>\n",
       "      <th>11142</th>\n",
       "      <td>0.483170</td>\n",
       "      <td>0.1400</td>\n",
       "      <td>1.620</td>\n",
       "      <td>0.209515</td>\n",
       "      <td>0.220</td>\n",
       "      <td>-0.657577</td>\n",
       "      <td>1.800</td>\n",
       "      <td>0.255273</td>\n",
       "      <td>0.760</td>\n",
       "      <td>-0.119186</td>\n",
       "      <td>4.860</td>\n",
       "      <td>0.686636</td>\n",
       "      <td>1.440</td>\n",
       "      <td>0.158362</td>\n",
       "      <td>7073.000000</td>\n",
       "      <td>3.849604</td>\n",
       "      <td>8020.720000</td>\n",
       "      <td>3.904213</td>\n",
       "      <td>W-EW</td>\n",
       "      <td>0</td>\n",
       "    </tr>\n",
       "    <tr>\n",
       "      <th>11143</th>\n",
       "      <td>0.368450</td>\n",
       "      <td>0.2200</td>\n",
       "      <td>1.390</td>\n",
       "      <td>0.143015</td>\n",
       "      <td>0.310</td>\n",
       "      <td>-0.508638</td>\n",
       "      <td>1.390</td>\n",
       "      <td>0.143015</td>\n",
       "      <td>0.740</td>\n",
       "      <td>-0.130768</td>\n",
       "      <td>2.550</td>\n",
       "      <td>0.406540</td>\n",
       "      <td>0.710</td>\n",
       "      <td>-0.148742</td>\n",
       "      <td>8142.000000</td>\n",
       "      <td>3.910731</td>\n",
       "      <td>8142.950000</td>\n",
       "      <td>3.910782</td>\n",
       "      <td>W-EW</td>\n",
       "      <td>0</td>\n",
       "    </tr>\n",
       "    <tr>\n",
       "      <th>11144</th>\n",
       "      <td>0.498300</td>\n",
       "      <td>0.4420</td>\n",
       "      <td>1.849</td>\n",
       "      <td>0.266937</td>\n",
       "      <td>0.818</td>\n",
       "      <td>-0.087247</td>\n",
       "      <td>1.775</td>\n",
       "      <td>0.249198</td>\n",
       "      <td>1.224</td>\n",
       "      <td>0.087781</td>\n",
       "      <td>5.062</td>\n",
       "      <td>0.704322</td>\n",
       "      <td>2.668</td>\n",
       "      <td>0.426186</td>\n",
       "      <td>11550.680000</td>\n",
       "      <td>4.062608</td>\n",
       "      <td>8172.689581</td>\n",
       "      <td>3.912365</td>\n",
       "      <td>W-EW</td>\n",
       "      <td>0</td>\n",
       "    </tr>\n",
       "    <tr>\n",
       "      <th>11145</th>\n",
       "      <td>0.369100</td>\n",
       "      <td>0.1500</td>\n",
       "      <td>1.380</td>\n",
       "      <td>0.139879</td>\n",
       "      <td>0.210</td>\n",
       "      <td>-0.677781</td>\n",
       "      <td>1.460</td>\n",
       "      <td>0.164353</td>\n",
       "      <td>0.680</td>\n",
       "      <td>-0.167491</td>\n",
       "      <td>2.480</td>\n",
       "      <td>0.394452</td>\n",
       "      <td>0.670</td>\n",
       "      <td>-0.173925</td>\n",
       "      <td>7759.000000</td>\n",
       "      <td>3.889806</td>\n",
       "      <td>8245.620000</td>\n",
       "      <td>3.916223</td>\n",
       "      <td>W-EW</td>\n",
       "      <td>0</td>\n",
       "    </tr>\n",
       "  </tbody>\n",
       "</table>\n",
       "<p>11146 rows × 20 columns</p>\n",
       "</div>"
      ],
      "text/plain": [
       "              P       q     M1     logM1     M2     logM2     R1     logR1  \\\n",
       "0      0.316600  0.0787  1.246  0.095518  0.098 -1.008774  1.347  0.129368   \n",
       "1      0.217629  0.6780  0.620 -0.207608  0.420 -0.376751  0.730 -0.136677   \n",
       "2      0.296800  0.1720  1.109  0.044932  0.192 -0.716699  1.148  0.059942   \n",
       "3      0.335200  0.1060  1.442  0.158965  0.155 -0.809668  1.521  0.182129   \n",
       "4      0.382600  0.1470  1.279  0.106871  0.179 -0.747147  1.435  0.156852   \n",
       "...         ...     ...    ...       ...    ...       ...    ...       ...   \n",
       "11141  0.395610  0.1500  1.730  0.238046  0.270 -0.568636  1.630  0.212188   \n",
       "11142  0.483170  0.1400  1.620  0.209515  0.220 -0.657577  1.800  0.255273   \n",
       "11143  0.368450  0.2200  1.390  0.143015  0.310 -0.508638  1.390  0.143015   \n",
       "11144  0.498300  0.4420  1.849  0.266937  0.818 -0.087247  1.775  0.249198   \n",
       "11145  0.369100  0.1500  1.380  0.139879  0.210 -0.677781  1.460  0.164353   \n",
       "\n",
       "          R2     logR2     L1     logL1     L2     logL2            T1  \\\n",
       "0      0.409 -0.388277  2.590  0.413300  0.213 -0.671620   8510.137503   \n",
       "1      0.640 -0.193820  0.110 -0.958607  0.024 -1.619789   3812.000000   \n",
       "2      0.507 -0.294992  1.480  0.170262  0.340 -0.468521   6830.684264   \n",
       "3      0.561 -0.251037  2.924  0.465977  0.401 -0.396856   9321.521112   \n",
       "4      0.583 -0.234331  2.550  0.406540  0.410 -0.387216   8749.612792   \n",
       "...      ...       ...    ...       ...    ...       ...           ...   \n",
       "11141  0.750 -0.124939  6.340  0.802089  1.310  0.117271   7945.000000   \n",
       "11142  0.760 -0.119186  4.860  0.686636  1.440  0.158362   7073.000000   \n",
       "11143  0.740 -0.130768  2.550  0.406540  0.710 -0.148742   8142.000000   \n",
       "11144  1.224  0.087781  5.062  0.704322  2.668  0.426186  11550.680000   \n",
       "11145  0.680 -0.167491  2.480  0.394452  0.670 -0.173925   7759.000000   \n",
       "\n",
       "          logT1           T2     logT2  Type  0  \n",
       "0      3.929937  2511.217871  3.399884  A-EW  0  \n",
       "1      3.581153  3135.000000  3.496238  A-EW  0  \n",
       "2      3.834464  3142.690027  3.497302  A-EW  0  \n",
       "3      3.969487  3445.048673  3.537195  A-EW  0  \n",
       "4      3.941989  3531.490806  3.547958  A-EW  0  \n",
       "...         ...          ...       ...   ... ..  \n",
       "11141  3.900094  7966.260000  3.901254  W-EW  0  \n",
       "11142  3.849604  8020.720000  3.904213  W-EW  0  \n",
       "11143  3.910731  8142.950000  3.910782  W-EW  0  \n",
       "11144  4.062608  8172.689581  3.912365  W-EW  0  \n",
       "11145  3.889806  8245.620000  3.916223  W-EW  0  \n",
       "\n",
       "[11146 rows x 20 columns]"
      ]
     },
     "execution_count": 23,
     "metadata": {},
     "output_type": "execute_result"
    }
   ],
   "source": [
    "pd.concat([df,pd.DataFrame(y_means)],axis=1)"
   ]
  },
  {
   "cell_type": "code",
   "execution_count": 24,
   "id": "59d5d0c1",
   "metadata": {},
   "outputs": [
    {
     "data": {
      "text/plain": [
       "<matplotlib.collections.PathCollection at 0x22e69df2820>"
      ]
     },
     "execution_count": 24,
     "metadata": {},
     "output_type": "execute_result"
    },
    {
     "data": {
      "image/png": "[encoded data removed]",
      "text/plain": [
       "<Figure size 432x288 with 1 Axes>"
      ]
     },
     "metadata": {
      "image/png": {
       "height": 248,
       "width": 368
      },
      "needs_background": "light"
     },
     "output_type": "display_data"
    }
   ],
   "source": [
    "plt.scatter(x[y_means==0,0], x[y_means==0,1], s=50,c='red')\n",
    "plt.scatter(x[y_means==1,0], x[y_means==1,1], s=50,c='green')\n",
    "plt.scatter(x[y_means==2,0], x[y_means==2,1], s=50,c='black')\n",
    "plt.scatter(x[y_means==3,0], x[y_means==3,1], s=50,c='blue')\n",
    "plt.scatter(x[y_means==4,0], x[y_means==4,1], s=50,c='purple')\n",
    "plt.scatter(x[y_means==5,0], x[y_means==5,1], s=50,c='yellow')\n",
    "\n"
   ]
  },
  {
   "cell_type": "code",
   "execution_count": null,
   "id": "c2be54c8",
   "metadata": {},
   "outputs": [],
   "source": []
  },
  {
   "cell_type": "code",
   "execution_count": null,
   "id": "6f9e453e",
   "metadata": {},
   "outputs": [],
   "source": []
  },
  {
   "cell_type": "code",
   "execution_count": null,
   "id": "f255ef8c",
   "metadata": {},
   "outputs": [],
   "source": []
  },
  {
   "cell_type": "code",
   "execution_count": null,
   "id": "c860bc17",
   "metadata": {},
   "outputs": [],
   "source": []
  }
 ],
 "metadata": {
  "kernelspec": {
   "display_name": "Python 3 (ipykernel)",
   "language": "python",
   "name": "python3"
  },
  "language_info": {
   "codemirror_mode": {
    "name": "ipython",
    "version": 3
   },
   "file_extension": ".py",
   "mimetype": "text/x-python",
   "name": "python",
   "nbconvert_exporter": "python",
   "pygments_lexer": "ipython3",
   "version": "3.9.7"
  }
 },
 "nbformat": 4,
 "nbformat_minor": 5
}
